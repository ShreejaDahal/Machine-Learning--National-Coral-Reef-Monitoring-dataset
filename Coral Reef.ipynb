{
 "cells": [
  {
   "cell_type": "code",
   "execution_count": 1,
   "metadata": {},
   "outputs": [],
   "source": [
    "# https://data.nodc.noaa.gov/cgi-bin/iso?id=gov.noaa.nodc:NCRMP-Fish-USVI#\n",
    "\n",
    "# The dataset is a result of a survey conducted by NOAA National Centers for Coastal Ocean Science in collaboration\n",
    "# with NOAA National Marine Fisheries Service, and a few other organizations. The data was collected in 2017 using the\n",
    "# stationary point-count method and consists of data such as the sample depth, underwater visibility, habitat type,\n",
    "# regions, length, strat, number of species, type of species, and common/scientific names.\n",
    "#\n",
    "# Target Feature: Strata Description"
   ]
  },
  {
   "cell_type": "code",
   "execution_count": 2,
   "metadata": {},
   "outputs": [
    {
     "name": "stderr",
     "output_type": "stream",
     "text": [
      "c:\\users\\shreeja\\appdata\\local\\programs\\python\\python38\\lib\\site-packages\\IPython\\core\\interactiveshell.py:3062: DtypeWarning: Columns (1,2,6,7,21) have mixed types.Specify dtype option on import or set low_memory=False.\n",
      "  has_raised = await self.run_ast_nodes(code_ast.body, cell_name,\n"
     ]
    },
    {
     "name": "stdout",
     "output_type": "stream",
     "text": [
      "<class 'pandas.core.frame.DataFrame'>\n",
      "RangeIndex: 197515 entries, 0 to 197514\n",
      "Data columns (total 30 columns):\n",
      " #   Column                       Non-Null Count   Dtype  \n",
      "---  ------                       --------------   -----  \n",
      " 0   time                         197515 non-null  object \n",
      " 1   latitude                     197515 non-null  object \n",
      " 2   longitude                    197515 non-null  object \n",
      " 3   date_utc                     197515 non-null  object \n",
      " 4   primary_sample_unit          197514 non-null  float64\n",
      " 5   station_nr                   197514 non-null  float64\n",
      " 6   sample_depth                 197515 non-null  object \n",
      " 7   underwater_visibility        197515 non-null  object \n",
      " 8   grid_id                      197514 non-null  float64\n",
      " 9   habitat_cd                   197514 non-null  object \n",
      " 10  habitat_type                 197514 non-null  object \n",
      " 11  depth_strat                  197514 non-null  object \n",
      " 12  depth_strat_description      197514 non-null  object \n",
      " 13  sub_region                   197514 non-null  object \n",
      " 14  sub_region_name_description  197514 non-null  object \n",
      " 15  admin                        197514 non-null  object \n",
      " 16  administration_description   197514 non-null  object \n",
      " 17  species_nr                   197514 non-null  float64\n",
      " 18  species_cd                   197514 non-null  object \n",
      " 19  scientific_name              196194 non-null  object \n",
      " 20  common_name                  196194 non-null  object \n",
      " 21  len                          197515 non-null  object \n",
      " 22  num                          197514 non-null  float64\n",
      " 23  time_seen                    197514 non-null  float64\n",
      " 24  prot                         197514 non-null  float64\n",
      " 25  strat                        197514 non-null  object \n",
      " 26  strat_description            197514 non-null  object \n",
      " 27  region                       197514 non-null  object \n",
      " 28  region_description           197514 non-null  object \n",
      " 29  accession_url                197514 non-null  object \n",
      "dtypes: float64(7), object(23)\n",
      "memory usage: 45.2+ MB\n"
     ]
    }
   ],
   "source": [
    "import pandas as pd\n",
    "import numpy as np\n",
    "import seaborn as sns\n",
    "import matplotlib.image as mpimg\n",
    "import matplotlib.pyplot as plt\n",
    "import time\n",
    "\n",
    "dataset = pd.read_csv('dataset.csv')\n",
    "dataset.info()"
   ]
  },
  {
   "cell_type": "code",
   "execution_count": 3,
   "metadata": {},
   "outputs": [
    {
     "data": {
      "text/html": [
       "<div>\n",
       "<style scoped>\n",
       "    .dataframe tbody tr th:only-of-type {\n",
       "        vertical-align: middle;\n",
       "    }\n",
       "\n",
       "    .dataframe tbody tr th {\n",
       "        vertical-align: top;\n",
       "    }\n",
       "\n",
       "    .dataframe thead th {\n",
       "        text-align: right;\n",
       "    }\n",
       "</style>\n",
       "<table border=\"1\" class=\"dataframe\">\n",
       "  <thead>\n",
       "    <tr style=\"text-align: right;\">\n",
       "      <th></th>\n",
       "      <th>time</th>\n",
       "      <th>latitude</th>\n",
       "      <th>longitude</th>\n",
       "      <th>date_utc</th>\n",
       "      <th>primary_sample_unit</th>\n",
       "      <th>station_nr</th>\n",
       "      <th>sample_depth</th>\n",
       "      <th>underwater_visibility</th>\n",
       "      <th>grid_id</th>\n",
       "      <th>habitat_cd</th>\n",
       "      <th>...</th>\n",
       "      <th>common_name</th>\n",
       "      <th>len</th>\n",
       "      <th>num</th>\n",
       "      <th>time_seen</th>\n",
       "      <th>prot</th>\n",
       "      <th>strat</th>\n",
       "      <th>strat_description</th>\n",
       "      <th>region</th>\n",
       "      <th>region_description</th>\n",
       "      <th>accession_url</th>\n",
       "    </tr>\n",
       "  </thead>\n",
       "  <tbody>\n",
       "    <tr>\n",
       "      <th>0</th>\n",
       "      <td>UTC</td>\n",
       "      <td>degrees_north</td>\n",
       "      <td>degrees_east</td>\n",
       "      <td>UTC</td>\n",
       "      <td>NaN</td>\n",
       "      <td>NaN</td>\n",
       "      <td>m</td>\n",
       "      <td>m</td>\n",
       "      <td>NaN</td>\n",
       "      <td>NaN</td>\n",
       "      <td>...</td>\n",
       "      <td>NaN</td>\n",
       "      <td>cm</td>\n",
       "      <td>NaN</td>\n",
       "      <td>NaN</td>\n",
       "      <td>NaN</td>\n",
       "      <td>NaN</td>\n",
       "      <td>NaN</td>\n",
       "      <td>NaN</td>\n",
       "      <td>NaN</td>\n",
       "      <td>NaN</td>\n",
       "    </tr>\n",
       "    <tr>\n",
       "      <th>1</th>\n",
       "      <td>2017-06-15T00:00:00Z</td>\n",
       "      <td>17.7895</td>\n",
       "      <td>-64.62008</td>\n",
       "      <td>2017-06-15T00:00:00Z</td>\n",
       "      <td>1000.0</td>\n",
       "      <td>1.0</td>\n",
       "      <td>1.8</td>\n",
       "      <td>9.5</td>\n",
       "      <td>387865.0</td>\n",
       "      <td>BDRK</td>\n",
       "      <td>...</td>\n",
       "      <td>barred cardinalfish</td>\n",
       "      <td>0.0</td>\n",
       "      <td>0.0</td>\n",
       "      <td>1.0</td>\n",
       "      <td>0.0</td>\n",
       "      <td>BDRK_SHLW</td>\n",
       "      <td>Bedrock shallow</td>\n",
       "      <td>STX</td>\n",
       "      <td>St. Croix - U.S. Virgin Islands</td>\n",
       "      <td>https://accession.nodc.noaa.gov/0176080</td>\n",
       "    </tr>\n",
       "    <tr>\n",
       "      <th>2</th>\n",
       "      <td>2017-06-15T00:00:00Z</td>\n",
       "      <td>17.7895</td>\n",
       "      <td>-64.62008</td>\n",
       "      <td>2017-06-15T00:00:00Z</td>\n",
       "      <td>1000.0</td>\n",
       "      <td>1.0</td>\n",
       "      <td>1.8</td>\n",
       "      <td>9.5</td>\n",
       "      <td>387865.0</td>\n",
       "      <td>BDRK</td>\n",
       "      <td>...</td>\n",
       "      <td>goldentail moray</td>\n",
       "      <td>0.0</td>\n",
       "      <td>0.0</td>\n",
       "      <td>1.0</td>\n",
       "      <td>0.0</td>\n",
       "      <td>BDRK_SHLW</td>\n",
       "      <td>Bedrock shallow</td>\n",
       "      <td>STX</td>\n",
       "      <td>St. Croix - U.S. Virgin Islands</td>\n",
       "      <td>https://accession.nodc.noaa.gov/0176080</td>\n",
       "    </tr>\n",
       "    <tr>\n",
       "      <th>3</th>\n",
       "      <td>2017-06-15T00:00:00Z</td>\n",
       "      <td>17.7895</td>\n",
       "      <td>-64.62008</td>\n",
       "      <td>2017-06-15T00:00:00Z</td>\n",
       "      <td>1000.0</td>\n",
       "      <td>1.0</td>\n",
       "      <td>1.8</td>\n",
       "      <td>9.5</td>\n",
       "      <td>387865.0</td>\n",
       "      <td>BDRK</td>\n",
       "      <td>...</td>\n",
       "      <td>fringed filefish</td>\n",
       "      <td>0.0</td>\n",
       "      <td>0.0</td>\n",
       "      <td>1.0</td>\n",
       "      <td>0.0</td>\n",
       "      <td>BDRK_SHLW</td>\n",
       "      <td>Bedrock shallow</td>\n",
       "      <td>STX</td>\n",
       "      <td>St. Croix - U.S. Virgin Islands</td>\n",
       "      <td>https://accession.nodc.noaa.gov/0176080</td>\n",
       "    </tr>\n",
       "    <tr>\n",
       "      <th>4</th>\n",
       "      <td>2017-06-15T00:00:00Z</td>\n",
       "      <td>17.7895</td>\n",
       "      <td>-64.62008</td>\n",
       "      <td>2017-06-15T00:00:00Z</td>\n",
       "      <td>1000.0</td>\n",
       "      <td>1.0</td>\n",
       "      <td>1.8</td>\n",
       "      <td>9.5</td>\n",
       "      <td>387865.0</td>\n",
       "      <td>BDRK</td>\n",
       "      <td>...</td>\n",
       "      <td>ocean surgeon</td>\n",
       "      <td>3.0</td>\n",
       "      <td>0.0</td>\n",
       "      <td>1.0</td>\n",
       "      <td>0.0</td>\n",
       "      <td>BDRK_SHLW</td>\n",
       "      <td>Bedrock shallow</td>\n",
       "      <td>STX</td>\n",
       "      <td>St. Croix - U.S. Virgin Islands</td>\n",
       "      <td>https://accession.nodc.noaa.gov/0176080</td>\n",
       "    </tr>\n",
       "  </tbody>\n",
       "</table>\n",
       "<p>5 rows × 30 columns</p>\n",
       "</div>"
      ],
      "text/plain": [
       "                   time       latitude     longitude              date_utc  \\\n",
       "0                   UTC  degrees_north  degrees_east                   UTC   \n",
       "1  2017-06-15T00:00:00Z        17.7895     -64.62008  2017-06-15T00:00:00Z   \n",
       "2  2017-06-15T00:00:00Z        17.7895     -64.62008  2017-06-15T00:00:00Z   \n",
       "3  2017-06-15T00:00:00Z        17.7895     -64.62008  2017-06-15T00:00:00Z   \n",
       "4  2017-06-15T00:00:00Z        17.7895     -64.62008  2017-06-15T00:00:00Z   \n",
       "\n",
       "   primary_sample_unit  station_nr sample_depth underwater_visibility  \\\n",
       "0                  NaN         NaN            m                     m   \n",
       "1               1000.0         1.0          1.8                   9.5   \n",
       "2               1000.0         1.0          1.8                   9.5   \n",
       "3               1000.0         1.0          1.8                   9.5   \n",
       "4               1000.0         1.0          1.8                   9.5   \n",
       "\n",
       "    grid_id habitat_cd  ...          common_name  len  num time_seen prot  \\\n",
       "0       NaN        NaN  ...                  NaN   cm  NaN       NaN  NaN   \n",
       "1  387865.0       BDRK  ...  barred cardinalfish  0.0  0.0       1.0  0.0   \n",
       "2  387865.0       BDRK  ...     goldentail moray  0.0  0.0       1.0  0.0   \n",
       "3  387865.0       BDRK  ...     fringed filefish  0.0  0.0       1.0  0.0   \n",
       "4  387865.0       BDRK  ...        ocean surgeon  3.0  0.0       1.0  0.0   \n",
       "\n",
       "       strat strat_description  region               region_description  \\\n",
       "0        NaN               NaN     NaN                              NaN   \n",
       "1  BDRK_SHLW   Bedrock shallow     STX  St. Croix - U.S. Virgin Islands   \n",
       "2  BDRK_SHLW   Bedrock shallow     STX  St. Croix - U.S. Virgin Islands   \n",
       "3  BDRK_SHLW   Bedrock shallow     STX  St. Croix - U.S. Virgin Islands   \n",
       "4  BDRK_SHLW   Bedrock shallow     STX  St. Croix - U.S. Virgin Islands   \n",
       "\n",
       "                             accession_url  \n",
       "0                                      NaN  \n",
       "1  https://accession.nodc.noaa.gov/0176080  \n",
       "2  https://accession.nodc.noaa.gov/0176080  \n",
       "3  https://accession.nodc.noaa.gov/0176080  \n",
       "4  https://accession.nodc.noaa.gov/0176080  \n",
       "\n",
       "[5 rows x 30 columns]"
      ]
     },
     "execution_count": 3,
     "metadata": {},
     "output_type": "execute_result"
    }
   ],
   "source": [
    "dataset.head(5)"
   ]
  },
  {
   "cell_type": "code",
   "execution_count": 4,
   "metadata": {},
   "outputs": [
    {
     "data": {
      "text/plain": [
       "time                              0\n",
       "latitude                          0\n",
       "longitude                         0\n",
       "date_utc                          0\n",
       "primary_sample_unit               1\n",
       "station_nr                        1\n",
       "sample_depth                      0\n",
       "underwater_visibility             0\n",
       "grid_id                           1\n",
       "habitat_cd                        1\n",
       "habitat_type                      1\n",
       "depth_strat                       1\n",
       "depth_strat_description           1\n",
       "sub_region                        1\n",
       "sub_region_name_description       1\n",
       "admin                             1\n",
       "administration_description        1\n",
       "species_nr                        1\n",
       "species_cd                        1\n",
       "scientific_name                1321\n",
       "common_name                    1321\n",
       "len                               0\n",
       "num                               1\n",
       "time_seen                         1\n",
       "prot                              1\n",
       "strat                             1\n",
       "strat_description                 1\n",
       "region                            1\n",
       "region_description                1\n",
       "accession_url                     1\n",
       "dtype: int64"
      ]
     },
     "execution_count": 4,
     "metadata": {},
     "output_type": "execute_result"
    }
   ],
   "source": [
    "dataset.isnull().sum()"
   ]
  },
  {
   "cell_type": "code",
   "execution_count": 5,
   "metadata": {},
   "outputs": [
    {
     "name": "stdout",
     "output_type": "stream",
     "text": [
      "[nan 'Bedrock' 'Aggregate reef' 'Hard (unknown)'\n",
      " 'Patch reef (Aggregate and individual)' 'Pavement'\n",
      " 'Scattered coral and rock']\n"
     ]
    }
   ],
   "source": [
    "print(dataset.habitat_type.unique())"
   ]
  },
  {
   "cell_type": "markdown",
   "metadata": {},
   "source": [
    "The habitat types were prioritized in descending order:\n",
    "1. Aggregate reef\n",
    "2. Patch reef\n",
    "3. Bedrock\n",
    "4. Pavement\n",
    "5. Scattered Reef/Coral\n",
    "6. Predicted hardbottom\n"
   ]
  },
  {
   "cell_type": "code",
   "execution_count": 6,
   "metadata": {},
   "outputs": [
    {
     "name": "stdout",
     "output_type": "stream",
     "text": [
      "[nan 'Buck Island Reef National Monument' 'St. Croix East End Marine Park'\n",
      " 'All non-managed areas'\n",
      " 'Salt River National Historical Park and Ecological Preserve'\n",
      " 'Virgin Islands Coral Reef National Monument'\n",
      " 'Virgin Islands National Park' 'St. Thomas East End Reserves']\n"
     ]
    }
   ],
   "source": [
    "print(dataset.administration_description.unique())"
   ]
  },
  {
   "cell_type": "markdown",
   "metadata": {},
   "source": [
    "Sample unites were classified into one of the 7 administrative zones\n",
    "1. VICR- the Virgin Islands Coral Reef National Monument\n",
    "2. VIIS- the Virgin Islands National Park\n",
    "3. STEER-the St.Thomas East End Reserve\n",
    "4. BUIS- The Buck Island Reef National Monument\n",
    "5. EEMP- The East End Marine Park (Assuming this is the St.Croix East End Marine Park)\n",
    "6. SARI- Salt River Bay National Historic Park and Ecological Preservce\n",
    "7. OPEN- the remaining units ( Assuming this is the non-managed areas)"
   ]
  },
  {
   "cell_type": "code",
   "execution_count": 7,
   "metadata": {},
   "outputs": [
    {
     "name": "stdout",
     "output_type": "stream",
     "text": [
      "['cm' '0.0' '3.0' '8.0' '10.0' '12.0' '14.0' '15.0' '17.0' '7.0' '18.0'\n",
      " '25.0' '13.0' '16.0' '5.0' '32.0' '4.0' '20.0' '37.0' '6.0' '9.0' '2.0'\n",
      " '11.0' '28.0' '22.0' '1.0' '23.0' '19.0' '26.0' '31.0' '27.0' '35.0'\n",
      " '29.0' '34.0' '24.0' '21.0' '52.0' '30.0' '53.0' '150.0' '190.0' '33.0'\n",
      " '38.0' '40.0' '180.0' '45.0' '50.0' '36.0' '233.0' '275.0' '42.0' '48.0'\n",
      " '101.0' '85.0' '90.0' '152.0' '44.0' '41.0' '60.0' '59.0' '39.0' '61.0'\n",
      " '100.0' '68.0' '70.0' '47.0' '250.0' '300.0' '65.0' '120.0' '75.0'\n",
      " '110.0' '92.0' '112.0' '102.0' '55.0' '170.0' '95.0' '140.0' '80.0'\n",
      " '200.0' 4.0 5.0 6.0 7.0 10.0 0.0 16.0 1.0 3.0 8.0 9.0 11.0 12.0 13.0 14.0\n",
      " 18.0 22.0 15.0 26.0 21.0 24.0 25.0 27.0 30.0 17.0 19.0 20.0 2.0 34.0 88.0\n",
      " 29.0 28.0 32.0 122.0 105.0 23.0 62.0 90.0 40.0 33.0 100.0 150.0 85.0 31.0\n",
      " 42.0 38.0 35.0 55.0 110.0 47.0 50.0 45.0 60.0 39.0 56.0 57.0 130.0 170.0\n",
      " 53.0 46.0 70.0 37.0 51.0 52.0 80.0 41.0 54.0 36.0 49.0 95.0 75.0 140.0\n",
      " 200.0 72.0 63.0 43.0 68.0 120.0 135.0 65.0 64.0 44.0 102.0 180.0 48.0\n",
      " 125.0 175.0 242.0 71.0 58.0 93.0 66.0 210.0 92.0 98.0 230.0 81.0 160.0\n",
      " 3.5 6.5 7.5 4.5 5.5 10.5 12.5 13.5 8.5 9.5 11.5 15.5 16.5 20.5 14.5 22.5\n",
      " 19.5 23.5 2.5 17.5 18.5 1.5 25.5 26.5 27.5 31.5 21.5 40.5 30.5 32.5 37.5\n",
      " 62.5 24.5 28.5 29.5 36.5 33.5]\n"
     ]
    }
   ],
   "source": [
    "print(dataset.len.unique())"
   ]
  },
  {
   "cell_type": "code",
   "execution_count": 8,
   "metadata": {},
   "outputs": [
    {
     "name": "stdout",
     "output_type": "stream",
     "text": [
      "['m' '9.5' '17.5' '16.0' '20.0' '13.0' '14.5' '15.0' '25.0' '11.0' '16.5'\n",
      " '23.5' '17.0' '27.5' '22.5' '7.5' '11.5' '14.0' '13.5' '23.0' '12.5'\n",
      " '21.5' '19.0' '18.0' '12.0' '18.5' 14.0 16.0 15.0 20.0 15.5 9.5 11.0 13.5\n",
      " 17.5 22.5 11.5 12.5 10.5 10.0 14.5 16.5 8.5 18.0 18.5 12.0 21.0 22.0 19.0\n",
      " 17.0 23.5 19.5 25.0 26.0 13.0 8.0 9.0 7.0 27.5 7.5 6.5 5.0 23.0]\n"
     ]
    }
   ],
   "source": [
    "print(dataset.underwater_visibility.unique())"
   ]
  },
  {
   "cell_type": "code",
   "execution_count": 9,
   "metadata": {},
   "outputs": [
    {
     "name": "stdout",
     "output_type": "stream",
     "text": [
      "STTSTJ    139465\n",
      "STX        58049\n",
      "Name: region, dtype: int64\n"
     ]
    }
   ],
   "source": [
    "print(dataset.region.value_counts())"
   ]
  },
  {
   "cell_type": "code",
   "execution_count": 10,
   "metadata": {},
   "outputs": [],
   "source": [
    "##According to the paper Sampling Design Protocol for the U.S. Caribbean and Flower\n",
    "##Garden Banks National Marine Sanctuary: 2013 to 2015, some of the units were classified\n",
    "##into biotopes independently of the administration zone : MSR, SLRK, STJ, STT, but our dataset only has STX and STTSTJ\n",
    "##which I can't make sense of    \n",
    "    \n",
    "    \n",
    "    "
   ]
  },
  {
   "cell_type": "code",
   "execution_count": 11,
   "metadata": {},
   "outputs": [
    {
     "name": "stdout",
     "output_type": "stream",
     "text": [
      "HARD_DEEP    40874\n",
      "AGRF_DEEP    33932\n",
      "AGRF_SHLW    27024\n",
      "PVMT_DEEP    26200\n",
      "PTRF_DEEP    19262\n",
      "PVMT_SHLW    13634\n",
      "PTRF_SHLW    12903\n",
      "BDRK_SHLW    11231\n",
      "SCR_DEEP      5890\n",
      "SCR_SHLW      3782\n",
      "HARD_SHLW     1750\n",
      "BDRK_DEEP     1032\n",
      "Name: strat, dtype: int64\n"
     ]
    }
   ],
   "source": [
    "print(dataset.strat.value_counts())"
   ]
  },
  {
   "cell_type": "code",
   "execution_count": 12,
   "metadata": {},
   "outputs": [
    {
     "name": "stdout",
     "output_type": "stream",
     "text": [
      "Hard (unknown) deep                              40874\n",
      "Aggregate reef deep                              33932\n",
      "Aggregate reef shallow                           27024\n",
      "Pavement deep                                    26200\n",
      "Patch reef (Aggregate and individual) deep       19262\n",
      "Pavement shallow                                 13634\n",
      "Patch reef (Aggregate and individual) shallow    12903\n",
      "Bedrock shallow                                  11231\n",
      "Scattered coral and rock deep                     5890\n",
      "Scattered coral and rock shallow                  3782\n",
      "Hard (unknown) shallow                            1750\n",
      "Bedrock deep                                      1032\n",
      "Name: strat_description, dtype: int64\n"
     ]
    }
   ],
   "source": [
    "print(dataset.strat_description.value_counts())"
   ]
  },
  {
   "cell_type": "markdown",
   "metadata": {},
   "source": [
    "In order to achieve the desired results the allocation proceeded in two phases. First samples were\n",
    "allocated to each administrative zone. Then sampling units were allocated to each stratum\n",
    "according to the following formula:\n",
    "n_h = n_h_min + n_admin_remainder [N_h / sum(N_h]\n",
    "where n_h_min = 2, n_admin_remainder = the number of samples allocated to an administrative\n",
    "zone after the minimum sample size requirement is met, and N_h = number of sample units in\n",
    "stratum h."
   ]
  },
  {
   "cell_type": "code",
   "execution_count": 13,
   "metadata": {},
   "outputs": [
    {
     "name": "stdout",
     "output_type": "stream",
     "text": [
      "0.000     162088\n",
      "1.000       9232\n",
      "0.500       8753\n",
      "2.000       3703\n",
      "3.000       1950\n",
      "           ...  \n",
      "2.058          1\n",
      "55.750         1\n",
      "3.279          1\n",
      "1.393          1\n",
      "1.070          1\n",
      "Name: num, Length: 635, dtype: int64\n"
     ]
    }
   ],
   "source": [
    "print(dataset.num.value_counts())"
   ]
  },
  {
   "cell_type": "code",
   "execution_count": 14,
   "metadata": {},
   "outputs": [
    {
     "data": {
      "text/plain": [
       "time                                     UTC\n",
       "latitude                       degrees_north\n",
       "longitude                       degrees_east\n",
       "date_utc                                 UTC\n",
       "primary_sample_unit                      NaN\n",
       "station_nr                               NaN\n",
       "sample_depth                               m\n",
       "underwater_visibility                      m\n",
       "grid_id                                  NaN\n",
       "habitat_cd                               NaN\n",
       "habitat_type                             NaN\n",
       "depth_strat                              NaN\n",
       "depth_strat_description                  NaN\n",
       "sub_region                               NaN\n",
       "sub_region_name_description              NaN\n",
       "admin                                    NaN\n",
       "administration_description               NaN\n",
       "species_nr                               NaN\n",
       "species_cd                               NaN\n",
       "scientific_name                          NaN\n",
       "common_name                              NaN\n",
       "len                                       cm\n",
       "num                                      NaN\n",
       "time_seen                                NaN\n",
       "prot                                     NaN\n",
       "strat                                    NaN\n",
       "strat_description                        NaN\n",
       "region                                   NaN\n",
       "region_description                       NaN\n",
       "accession_url                            NaN\n",
       "Name: 0, dtype: object"
      ]
     },
     "execution_count": 14,
     "metadata": {},
     "output_type": "execute_result"
    }
   ],
   "source": [
    "dataset.loc[0]"
   ]
  },
  {
   "cell_type": "code",
   "execution_count": 15,
   "metadata": {},
   "outputs": [],
   "source": [
    "dataset.drop(dataset.index[0], inplace = True)\n",
    "#dataset.plot(kind=\"scatter\", x=\"longitude\", y=\"latitude\", alpha=0.4)\n",
    "#plt.show()"
   ]
  },
  {
   "cell_type": "code",
   "execution_count": 16,
   "metadata": {},
   "outputs": [
    {
     "data": {
      "text/plain": [
       "time                              0\n",
       "latitude                          0\n",
       "longitude                         0\n",
       "date_utc                          0\n",
       "primary_sample_unit               0\n",
       "station_nr                        0\n",
       "sample_depth                      0\n",
       "underwater_visibility             0\n",
       "grid_id                           0\n",
       "habitat_cd                        0\n",
       "habitat_type                      0\n",
       "depth_strat                       0\n",
       "depth_strat_description           0\n",
       "sub_region                        0\n",
       "sub_region_name_description       0\n",
       "admin                             0\n",
       "administration_description        0\n",
       "species_nr                        0\n",
       "species_cd                        0\n",
       "scientific_name                1320\n",
       "common_name                    1320\n",
       "len                               0\n",
       "num                               0\n",
       "time_seen                         0\n",
       "prot                              0\n",
       "strat                             0\n",
       "strat_description                 0\n",
       "region                            0\n",
       "region_description                0\n",
       "accession_url                     0\n",
       "dtype: int64"
      ]
     },
     "execution_count": 16,
     "metadata": {},
     "output_type": "execute_result"
    }
   ],
   "source": [
    "dataset.isnull().sum()"
   ]
  },
  {
   "cell_type": "code",
   "execution_count": 17,
   "metadata": {},
   "outputs": [
    {
     "name": "stdout",
     "output_type": "stream",
     "text": [
      "<class 'pandas.core.frame.DataFrame'>\n",
      "Int64Index: 197514 entries, 1 to 197514\n",
      "Data columns (total 30 columns):\n",
      " #   Column                       Non-Null Count   Dtype  \n",
      "---  ------                       --------------   -----  \n",
      " 0   time                         197514 non-null  object \n",
      " 1   latitude                     197514 non-null  object \n",
      " 2   longitude                    197514 non-null  object \n",
      " 3   date_utc                     197514 non-null  object \n",
      " 4   primary_sample_unit          197514 non-null  float64\n",
      " 5   station_nr                   197514 non-null  float64\n",
      " 6   sample_depth                 197514 non-null  object \n",
      " 7   underwater_visibility        197514 non-null  object \n",
      " 8   grid_id                      197514 non-null  float64\n",
      " 9   habitat_cd                   197514 non-null  object \n",
      " 10  habitat_type                 197514 non-null  object \n",
      " 11  depth_strat                  197514 non-null  object \n",
      " 12  depth_strat_description      197514 non-null  object \n",
      " 13  sub_region                   197514 non-null  object \n",
      " 14  sub_region_name_description  197514 non-null  object \n",
      " 15  admin                        197514 non-null  object \n",
      " 16  administration_description   197514 non-null  object \n",
      " 17  species_nr                   197514 non-null  float64\n",
      " 18  species_cd                   197514 non-null  object \n",
      " 19  scientific_name              196194 non-null  object \n",
      " 20  common_name                  196194 non-null  object \n",
      " 21  len                          197514 non-null  object \n",
      " 22  num                          197514 non-null  float64\n",
      " 23  time_seen                    197514 non-null  float64\n",
      " 24  prot                         197514 non-null  float64\n",
      " 25  strat                        197514 non-null  object \n",
      " 26  strat_description            197514 non-null  object \n",
      " 27  region                       197514 non-null  object \n",
      " 28  region_description           197514 non-null  object \n",
      " 29  accession_url                197514 non-null  object \n",
      "dtypes: float64(7), object(23)\n",
      "memory usage: 46.7+ MB\n"
     ]
    }
   ],
   "source": [
    "dataset.info()"
   ]
  },
  {
   "cell_type": "code",
   "execution_count": 18,
   "metadata": {},
   "outputs": [
    {
     "data": {
      "text/plain": [
       "array([  2.,   5.,   6.,   7.,   8.,   9.,  10.,  13.,  14.,  15.,  17.,\n",
       "        18.,  19.,  20.,  21.,  23.,  25.,  26.,  29.,  30.,  31.,  35.,\n",
       "        36.,  38.,  39.,  40.,  41.,  42.,  45.,  46.,  48.,  49.,  50.,\n",
       "        51.,  52.,  53.,  58.,  59.,  64.,  65.,  66.,  67.,  68.,  71.,\n",
       "        72.,  73.,  74.,  75.,  77.,  78.,  80.,  81.,  83.,  87.,  88.,\n",
       "        89.,  90.,  91.,  92.,  93.,  94.,  95.,  96.,  97.,  98., 100.,\n",
       "       101., 102., 103., 104., 106., 107., 108., 109., 110., 111., 113.,\n",
       "       114., 115., 116., 117., 118., 119., 122., 123., 124., 125., 126.,\n",
       "       127., 128., 129., 130., 131., 132., 133., 134., 135., 136., 137.,\n",
       "       138., 139., 140., 141., 143., 144., 145., 146., 147., 148., 149.,\n",
       "       151., 153., 154., 155., 156., 157., 158., 160., 161., 163., 164.,\n",
       "       165., 166., 167., 168., 169., 170., 171., 172., 173., 174., 177.,\n",
       "       178., 179., 180., 181., 182., 183., 184., 185., 186., 187., 188.,\n",
       "       189., 190., 192., 195., 196., 198., 199., 200., 201., 202., 203.,\n",
       "       204., 205., 206., 207., 208., 209., 210., 211., 212., 214., 215.,\n",
       "       218., 219., 220., 221., 222., 223., 224., 226., 227., 228., 232.,\n",
       "       236., 237., 238., 239., 240., 241., 243., 245., 246., 248., 249.,\n",
       "       250., 254., 258., 262., 263., 264., 287., 305., 312., 335., 341.,\n",
       "       382., 386., 387., 388., 393., 394., 409., 410., 411., 417., 418.,\n",
       "       428., 432., 433., 447., 701., 704., 705., 706., 711., 714., 734.,\n",
       "       735., 736., 745., 748., 750., 753., 757., 759., 760., 764., 765.,\n",
       "       767.])"
      ]
     },
     "execution_count": 18,
     "metadata": {},
     "output_type": "execute_result"
    }
   ],
   "source": [
    "dataset['species_nr'].unique()"
   ]
  },
  {
   "cell_type": "code",
   "execution_count": 19,
   "metadata": {},
   "outputs": [
    {
     "data": {
      "text/plain": [
       "array(['BDRK', 'AGRF', 'HARD', 'PTRF', 'PVMT', 'SCR'], dtype=object)"
      ]
     },
     "execution_count": 19,
     "metadata": {},
     "output_type": "execute_result"
    }
   ],
   "source": [
    "dataset['habitat_cd'].unique()"
   ]
  },
  {
   "cell_type": "code",
   "execution_count": 20,
   "metadata": {},
   "outputs": [
    {
     "data": {
      "text/plain": [
       "array(['Bedrock', 'Aggregate reef', 'Hard (unknown)',\n",
       "       'Patch reef (Aggregate and individual)', 'Pavement',\n",
       "       'Scattered coral and rock'], dtype=object)"
      ]
     },
     "execution_count": 20,
     "metadata": {},
     "output_type": "execute_result"
    }
   ],
   "source": [
    "dataset['habitat_type'].unique()"
   ]
  },
  {
   "cell_type": "code",
   "execution_count": 21,
   "metadata": {},
   "outputs": [
    {
     "data": {
      "text/plain": [
       "<matplotlib.axes._subplots.AxesSubplot at 0x1e09590f9d0>"
      ]
     },
     "execution_count": 21,
     "metadata": {},
     "output_type": "execute_result"
    },
    {
     "data": {
      "image/png": "[encoded data removed]",
      "text/plain": [
       "<Figure size 288x288 with 1 Axes>"
      ]
     },
     "metadata": {},
     "output_type": "display_data"
    }
   ],
   "source": [
    "a = dataset['habitat_cd'].value_counts().head(5)\n",
    "a.plot.pie(figsize = (4,4), autopct = '%.1f%%')"
   ]
  },
  {
   "cell_type": "code",
   "execution_count": 22,
   "metadata": {},
   "outputs": [
    {
     "data": {
      "text/plain": [
       "array(['STX', 'STTSTJ'], dtype=object)"
      ]
     },
     "execution_count": 22,
     "metadata": {},
     "output_type": "execute_result"
    }
   ],
   "source": [
    "dataset['region'].unique()"
   ]
  },
  {
   "cell_type": "code",
   "execution_count": 23,
   "metadata": {},
   "outputs": [
    {
     "data": {
      "text/plain": [
       "array(['St. Croix - U.S. Virgin Islands',\n",
       "       'St. Thomas and St. John - U.S. Virgin Islands'], dtype=object)"
      ]
     },
     "execution_count": 23,
     "metadata": {},
     "output_type": "execute_result"
    }
   ],
   "source": [
    "dataset['region_description'].unique()"
   ]
  },
  {
   "cell_type": "code",
   "execution_count": 24,
   "metadata": {},
   "outputs": [
    {
     "data": {
      "text/plain": [
       "array(['9.5', '17.5', '16.0', '20.0', '13.0', '14.5', '15.0', '25.0',\n",
       "       '11.0', '16.5', '23.5', '17.0', '27.5', '22.5', '7.5', '11.5',\n",
       "       '14.0', '13.5', '23.0', '12.5', '21.5', '19.0', '18.0', '12.0',\n",
       "       '18.5', 14.0, 16.0, 15.0, 20.0, 15.5, 9.5, 11.0, 13.5, 17.5, 22.5,\n",
       "       11.5, 12.5, 10.5, 10.0, 14.5, 16.5, 8.5, 18.0, 18.5, 12.0, 21.0,\n",
       "       22.0, 19.0, 17.0, 23.5, 19.5, 25.0, 26.0, 13.0, 8.0, 9.0, 7.0,\n",
       "       27.5, 7.5, 6.5, 5.0, 23.0], dtype=object)"
      ]
     },
     "execution_count": 24,
     "metadata": {},
     "output_type": "execute_result"
    }
   ],
   "source": [
    "dataset['underwater_visibility'].unique()"
   ]
  },
  {
   "cell_type": "code",
   "execution_count": 25,
   "metadata": {},
   "outputs": [
    {
     "data": {
      "text/plain": [
       "<matplotlib.legend.Legend at 0x1e0958ce400>"
      ]
     },
     "execution_count": 25,
     "metadata": {},
     "output_type": "execute_result"
    },
    {
     "data": {
      "image/png": "[encoded data removed]",
      "text/plain": [
       "<Figure size 1080x432 with 1 Axes>"
      ]
     },
     "metadata": {
      "needs_background": "light"
     },
     "output_type": "display_data"
    }
   ],
   "source": [
    "import matplotlib.pyplot as plt\n",
    "import seaborn as sns\n",
    "\n",
    "\n",
    "plt.figure(figsize=(15,6))\n",
    "sns.countplot(x= dataset.habitat_cd,hue= dataset.region_description, palette='GnBu_d')\n",
    "plt.title('Habitats in different Regions', fontsize=15)\n",
    "plt.xlabel('Habitat')\n",
    "plt.ylabel(\"Count\")\n",
    "plt.legend(frameon=False, fontsize=12)\n"
   ]
  },
  {
   "cell_type": "code",
   "execution_count": 26,
   "metadata": {},
   "outputs": [
    {
     "data": {
      "text/plain": [
       "[None,\n",
       " None,\n",
       " None,\n",
       " None,\n",
       " None,\n",
       " None,\n",
       " None,\n",
       " None,\n",
       " None,\n",
       " None,\n",
       " None,\n",
       " None,\n",
       " None,\n",
       " None,\n",
       " None,\n",
       " None,\n",
       " None,\n",
       " None,\n",
       " None,\n",
       " None,\n",
       " None,\n",
       " None,\n",
       " None,\n",
       " None]"
      ]
     },
     "execution_count": 26,
     "metadata": {},
     "output_type": "execute_result"
    },
    {
     "data": {
      "image/png": "[encoded data removed]",
      "text/plain": [
       "<Figure size 1080x432 with 1 Axes>"
      ]
     },
     "metadata": {
      "needs_background": "light"
     },
     "output_type": "display_data"
    }
   ],
   "source": [
    "import matplotlib.pyplot as plt\n",
    "import seaborn as sns\n",
    "\n",
    "\n",
    "plt.figure(figsize=(15,6))\n",
    "sns.countplot(x= dataset.strat_description,hue= dataset.region_description, palette='plasma', order = dataset.strat_description.value_counts().index)\n",
    "plt.title('Strats in different region', fontsize=15)\n",
    "plt.xlabel('Strats')\n",
    "plt.ylabel(\"Count\")\n",
    "plt.legend(frameon=False, fontsize=12)\n",
    "locks,labels = plt.xticks()\n",
    "plt.setp(labels, rotation=45)\n"
   ]
  },
  {
   "cell_type": "code",
   "execution_count": 27,
   "metadata": {},
   "outputs": [
    {
     "data": {
      "text/plain": [
       "array(['BDRK_SHLW', 'AGRF_DEEP', 'HARD_DEEP', 'AGRF_SHLW', 'PTRF_DEEP',\n",
       "       'PTRF_SHLW', 'PVMT_DEEP', 'SCR_DEEP', 'PVMT_SHLW', 'SCR_SHLW',\n",
       "       'BDRK_DEEP', 'HARD_SHLW'], dtype=object)"
      ]
     },
     "execution_count": 27,
     "metadata": {},
     "output_type": "execute_result"
    }
   ],
   "source": [
    "dataset['strat'].unique()"
   ]
  },
  {
   "cell_type": "code",
   "execution_count": 28,
   "metadata": {},
   "outputs": [
    {
     "data": {
      "text/plain": [
       "array(['Bedrock shallow', 'Aggregate reef deep', 'Hard (unknown) deep',\n",
       "       'Aggregate reef shallow',\n",
       "       'Patch reef (Aggregate and individual) deep',\n",
       "       'Patch reef (Aggregate and individual) shallow', 'Pavement deep',\n",
       "       'Scattered coral and rock deep', 'Pavement shallow',\n",
       "       'Scattered coral and rock shallow', 'Bedrock deep',\n",
       "       'Hard (unknown) shallow'], dtype=object)"
      ]
     },
     "execution_count": 28,
     "metadata": {},
     "output_type": "execute_result"
    }
   ],
   "source": [
    "dataset['strat_description'].unique()"
   ]
  },
  {
   "cell_type": "code",
   "execution_count": 29,
   "metadata": {},
   "outputs": [],
   "source": [
    "#Columns like region, strat, habitat_cd, species_cd, sub region, admin have almost duplicate columns with redundant values so we can drop them "
   ]
  },
  {
   "cell_type": "code",
   "execution_count": 30,
   "metadata": {},
   "outputs": [
    {
     "data": {
      "text/plain": [
       "array(['BUIS', 'EEMP', 'OPEN', 'SARI', 'VICR', 'VIIS', 'STEE'],\n",
       "      dtype=object)"
      ]
     },
     "execution_count": 30,
     "metadata": {},
     "output_type": "execute_result"
    }
   ],
   "source": [
    "dataset['admin'].unique()"
   ]
  },
  {
   "cell_type": "code",
   "execution_count": 31,
   "metadata": {},
   "outputs": [
    {
     "data": {
      "text/plain": [
       "array(['Buck Island Reef National Monument',\n",
       "       'St. Croix East End Marine Park', 'All non-managed areas',\n",
       "       'Salt River National Historical Park and Ecological Preserve',\n",
       "       'Virgin Islands Coral Reef National Monument',\n",
       "       'Virgin Islands National Park', 'St. Thomas East End Reserves'],\n",
       "      dtype=object)"
      ]
     },
     "execution_count": 31,
     "metadata": {},
     "output_type": "execute_result"
    }
   ],
   "source": [
    "dataset['administration_description'].unique()"
   ]
  },
  {
   "cell_type": "code",
   "execution_count": 32,
   "metadata": {},
   "outputs": [
    {
     "data": {
      "text/plain": [
       "[None,\n",
       " None,\n",
       " None,\n",
       " None,\n",
       " None,\n",
       " None,\n",
       " None,\n",
       " None,\n",
       " None,\n",
       " None,\n",
       " None,\n",
       " None,\n",
       " None,\n",
       " None,\n",
       " None,\n",
       " None,\n",
       " None,\n",
       " None,\n",
       " None,\n",
       " None,\n",
       " None,\n",
       " None,\n",
       " None,\n",
       " None]"
      ]
     },
     "execution_count": 32,
     "metadata": {},
     "output_type": "execute_result"
    },
    {
     "data": {
      "image/png": "[encoded data removed]",
      "text/plain": [
       "<Figure size 1440x720 with 1 Axes>"
      ]
     },
     "metadata": {
      "needs_background": "light"
     },
     "output_type": "display_data"
    }
   ],
   "source": [
    "import matplotlib.pyplot as plt\n",
    "import seaborn as sns\n",
    "\n",
    "\n",
    "plt.figure(figsize=(20,10))\n",
    "sns.countplot(x= dataset.strat_description,hue= dataset.administration_description, palette='plasma', order = dataset.strat_description.value_counts().index)\n",
    "plt.title('Strats in different administrative regions', fontsize=15)\n",
    "plt.xlabel('Strats')\n",
    "plt.ylabel(\"Count\")\n",
    "plt.legend(frameon=False, fontsize=12)\n",
    "locks,labels = plt.xticks()\n",
    "plt.setp(labels, rotation=45)\n"
   ]
  },
  {
   "cell_type": "code",
   "execution_count": 33,
   "metadata": {},
   "outputs": [
    {
     "data": {
      "text/plain": [
       "array(['ESTX', 'LANG', 'NWSTX', 'SSTX', 'STJ', 'STT', 'MSR', 'EDGE',\n",
       "       'SLRK'], dtype=object)"
      ]
     },
     "execution_count": 33,
     "metadata": {},
     "output_type": "execute_result"
    }
   ],
   "source": [
    "dataset['sub_region'].unique()"
   ]
  },
  {
   "cell_type": "code",
   "execution_count": 34,
   "metadata": {},
   "outputs": [
    {
     "data": {
      "text/plain": [
       "array(['Eastern St. Croix', 'Lang Bank', 'Northwestern St. Croix',\n",
       "       'Southern St. Croix', 'St. John', 'St. Thomas', 'Mid-shelf Reef',\n",
       "       'Edge', 'Sail Rock'], dtype=object)"
      ]
     },
     "execution_count": 34,
     "metadata": {},
     "output_type": "execute_result"
    }
   ],
   "source": [
    "dataset['sub_region_name_description'].unique()"
   ]
  },
  {
   "cell_type": "code",
   "execution_count": 35,
   "metadata": {},
   "outputs": [],
   "source": [
    "dataset.drop(['habitat_cd'], inplace = True, axis = 1)"
   ]
  },
  {
   "cell_type": "code",
   "execution_count": 36,
   "metadata": {},
   "outputs": [],
   "source": [
    "dataset.drop(['species_nr'], inplace = True, axis = 1)"
   ]
  },
  {
   "cell_type": "code",
   "execution_count": 37,
   "metadata": {},
   "outputs": [],
   "source": [
    "dataset.drop(['admin'], inplace = True, axis = 1)"
   ]
  },
  {
   "cell_type": "code",
   "execution_count": 38,
   "metadata": {},
   "outputs": [],
   "source": [
    "dataset.drop(['sub_region'], inplace = True, axis = 1)"
   ]
  },
  {
   "cell_type": "code",
   "execution_count": 39,
   "metadata": {},
   "outputs": [],
   "source": [
    "dataset.drop(['region'], inplace = True, axis = 1)"
   ]
  },
  {
   "cell_type": "code",
   "execution_count": 40,
   "metadata": {},
   "outputs": [],
   "source": [
    "dataset.drop(['strat'], inplace = True, axis = 1)\n",
    "dataset.drop(['accession_url'], inplace = True, axis = 1)\n",
    "dataset.drop(['scientific_name'], inplace = True, axis = 1)\n",
    "dataset.drop(['common_name'], inplace = True, axis = 1)\n",
    "dataset.drop(['date_utc'], inplace = True, axis = 1)\n",
    "dataset.drop(['latitude'], inplace = True, axis = 1)\n",
    "dataset.drop(['longitude'], inplace = True, axis = 1)\n",
    "dataset.drop(['grid_id'], inplace = True, axis = 1)\n",
    "\n",
    "\n",
    "#dataset.drop(['species_nr'], inplace = True, axis = 1)"
   ]
  },
  {
   "cell_type": "code",
   "execution_count": 41,
   "metadata": {},
   "outputs": [
    {
     "data": {
      "text/html": [
       "<div>\n",
       "<style scoped>\n",
       "    .dataframe tbody tr th:only-of-type {\n",
       "        vertical-align: middle;\n",
       "    }\n",
       "\n",
       "    .dataframe tbody tr th {\n",
       "        vertical-align: top;\n",
       "    }\n",
       "\n",
       "    .dataframe thead th {\n",
       "        text-align: right;\n",
       "    }\n",
       "</style>\n",
       "<table border=\"1\" class=\"dataframe\">\n",
       "  <thead>\n",
       "    <tr style=\"text-align: right;\">\n",
       "      <th></th>\n",
       "      <th>time</th>\n",
       "      <th>primary_sample_unit</th>\n",
       "      <th>station_nr</th>\n",
       "      <th>sample_depth</th>\n",
       "      <th>underwater_visibility</th>\n",
       "      <th>habitat_type</th>\n",
       "      <th>depth_strat</th>\n",
       "      <th>depth_strat_description</th>\n",
       "      <th>sub_region_name_description</th>\n",
       "      <th>administration_description</th>\n",
       "      <th>species_cd</th>\n",
       "      <th>len</th>\n",
       "      <th>num</th>\n",
       "      <th>time_seen</th>\n",
       "      <th>prot</th>\n",
       "      <th>strat_description</th>\n",
       "      <th>region_description</th>\n",
       "    </tr>\n",
       "  </thead>\n",
       "  <tbody>\n",
       "    <tr>\n",
       "      <th>1</th>\n",
       "      <td>2017-06-15T00:00:00Z</td>\n",
       "      <td>1000.0</td>\n",
       "      <td>1.0</td>\n",
       "      <td>1.8</td>\n",
       "      <td>9.5</td>\n",
       "      <td>Bedrock</td>\n",
       "      <td>SHLW</td>\n",
       "      <td>shallow (0-11.9 m)</td>\n",
       "      <td>Eastern St. Croix</td>\n",
       "      <td>Buck Island Reef National Monument</td>\n",
       "      <td>APO BINO</td>\n",
       "      <td>0.0</td>\n",
       "      <td>0.0</td>\n",
       "      <td>1.0</td>\n",
       "      <td>0.0</td>\n",
       "      <td>Bedrock shallow</td>\n",
       "      <td>St. Croix - U.S. Virgin Islands</td>\n",
       "    </tr>\n",
       "    <tr>\n",
       "      <th>2</th>\n",
       "      <td>2017-06-15T00:00:00Z</td>\n",
       "      <td>1000.0</td>\n",
       "      <td>1.0</td>\n",
       "      <td>1.8</td>\n",
       "      <td>9.5</td>\n",
       "      <td>Bedrock</td>\n",
       "      <td>SHLW</td>\n",
       "      <td>shallow (0-11.9 m)</td>\n",
       "      <td>Eastern St. Croix</td>\n",
       "      <td>Buck Island Reef National Monument</td>\n",
       "      <td>GYM MILI</td>\n",
       "      <td>0.0</td>\n",
       "      <td>0.0</td>\n",
       "      <td>1.0</td>\n",
       "      <td>0.0</td>\n",
       "      <td>Bedrock shallow</td>\n",
       "      <td>St. Croix - U.S. Virgin Islands</td>\n",
       "    </tr>\n",
       "    <tr>\n",
       "      <th>3</th>\n",
       "      <td>2017-06-15T00:00:00Z</td>\n",
       "      <td>1000.0</td>\n",
       "      <td>1.0</td>\n",
       "      <td>1.8</td>\n",
       "      <td>9.5</td>\n",
       "      <td>Bedrock</td>\n",
       "      <td>SHLW</td>\n",
       "      <td>shallow (0-11.9 m)</td>\n",
       "      <td>Eastern St. Croix</td>\n",
       "      <td>Buck Island Reef National Monument</td>\n",
       "      <td>MON CILI</td>\n",
       "      <td>0.0</td>\n",
       "      <td>0.0</td>\n",
       "      <td>1.0</td>\n",
       "      <td>0.0</td>\n",
       "      <td>Bedrock shallow</td>\n",
       "      <td>St. Croix - U.S. Virgin Islands</td>\n",
       "    </tr>\n",
       "    <tr>\n",
       "      <th>4</th>\n",
       "      <td>2017-06-15T00:00:00Z</td>\n",
       "      <td>1000.0</td>\n",
       "      <td>1.0</td>\n",
       "      <td>1.8</td>\n",
       "      <td>9.5</td>\n",
       "      <td>Bedrock</td>\n",
       "      <td>SHLW</td>\n",
       "      <td>shallow (0-11.9 m)</td>\n",
       "      <td>Eastern St. Croix</td>\n",
       "      <td>Buck Island Reef National Monument</td>\n",
       "      <td>ACA BAHI</td>\n",
       "      <td>3.0</td>\n",
       "      <td>0.0</td>\n",
       "      <td>1.0</td>\n",
       "      <td>0.0</td>\n",
       "      <td>Bedrock shallow</td>\n",
       "      <td>St. Croix - U.S. Virgin Islands</td>\n",
       "    </tr>\n",
       "    <tr>\n",
       "      <th>5</th>\n",
       "      <td>2017-06-15T00:00:00Z</td>\n",
       "      <td>1000.0</td>\n",
       "      <td>1.0</td>\n",
       "      <td>1.8</td>\n",
       "      <td>9.5</td>\n",
       "      <td>Bedrock</td>\n",
       "      <td>SHLW</td>\n",
       "      <td>shallow (0-11.9 m)</td>\n",
       "      <td>Eastern St. Croix</td>\n",
       "      <td>Buck Island Reef National Monument</td>\n",
       "      <td>ACA BAHI</td>\n",
       "      <td>8.0</td>\n",
       "      <td>3.0</td>\n",
       "      <td>1.0</td>\n",
       "      <td>0.0</td>\n",
       "      <td>Bedrock shallow</td>\n",
       "      <td>St. Croix - U.S. Virgin Islands</td>\n",
       "    </tr>\n",
       "  </tbody>\n",
       "</table>\n",
       "</div>"
      ],
      "text/plain": [
       "                   time  primary_sample_unit  station_nr sample_depth  \\\n",
       "1  2017-06-15T00:00:00Z               1000.0         1.0          1.8   \n",
       "2  2017-06-15T00:00:00Z               1000.0         1.0          1.8   \n",
       "3  2017-06-15T00:00:00Z               1000.0         1.0          1.8   \n",
       "4  2017-06-15T00:00:00Z               1000.0         1.0          1.8   \n",
       "5  2017-06-15T00:00:00Z               1000.0         1.0          1.8   \n",
       "\n",
       "  underwater_visibility habitat_type depth_strat depth_strat_description  \\\n",
       "1                   9.5      Bedrock        SHLW      shallow (0-11.9 m)   \n",
       "2                   9.5      Bedrock        SHLW      shallow (0-11.9 m)   \n",
       "3                   9.5      Bedrock        SHLW      shallow (0-11.9 m)   \n",
       "4                   9.5      Bedrock        SHLW      shallow (0-11.9 m)   \n",
       "5                   9.5      Bedrock        SHLW      shallow (0-11.9 m)   \n",
       "\n",
       "  sub_region_name_description          administration_description species_cd  \\\n",
       "1           Eastern St. Croix  Buck Island Reef National Monument   APO BINO   \n",
       "2           Eastern St. Croix  Buck Island Reef National Monument   GYM MILI   \n",
       "3           Eastern St. Croix  Buck Island Reef National Monument   MON CILI   \n",
       "4           Eastern St. Croix  Buck Island Reef National Monument   ACA BAHI   \n",
       "5           Eastern St. Croix  Buck Island Reef National Monument   ACA BAHI   \n",
       "\n",
       "   len  num  time_seen  prot strat_description  \\\n",
       "1  0.0  0.0        1.0   0.0   Bedrock shallow   \n",
       "2  0.0  0.0        1.0   0.0   Bedrock shallow   \n",
       "3  0.0  0.0        1.0   0.0   Bedrock shallow   \n",
       "4  3.0  0.0        1.0   0.0   Bedrock shallow   \n",
       "5  8.0  3.0        1.0   0.0   Bedrock shallow   \n",
       "\n",
       "                region_description  \n",
       "1  St. Croix - U.S. Virgin Islands  \n",
       "2  St. Croix - U.S. Virgin Islands  \n",
       "3  St. Croix - U.S. Virgin Islands  \n",
       "4  St. Croix - U.S. Virgin Islands  \n",
       "5  St. Croix - U.S. Virgin Islands  "
      ]
     },
     "execution_count": 41,
     "metadata": {},
     "output_type": "execute_result"
    }
   ],
   "source": [
    "dataset.head()"
   ]
  },
  {
   "cell_type": "code",
   "execution_count": 42,
   "metadata": {},
   "outputs": [],
   "source": [
    "dataset.drop(['primary_sample_unit'], inplace = True, axis = 1)\n",
    "dataset.drop(['station_nr'], inplace = True, axis = 1)\n",
    "dataset.drop(['time_seen'], inplace = True, axis = 1)\n",
    "dataset.drop(['prot'], inplace = True, axis = 1)\n",
    "dataset.drop(['depth_strat_description'], inplace = True, axis = 1)\n",
    "dataset.drop(['time'], inplace = True, axis = 1)\n",
    "\n"
   ]
  },
  {
   "cell_type": "code",
   "execution_count": 43,
   "metadata": {},
   "outputs": [
    {
     "name": "stdout",
     "output_type": "stream",
     "text": [
      "<class 'pandas.core.frame.DataFrame'>\n",
      "Int64Index: 197514 entries, 1 to 197514\n",
      "Data columns (total 11 columns):\n",
      " #   Column                       Non-Null Count   Dtype  \n",
      "---  ------                       --------------   -----  \n",
      " 0   sample_depth                 197514 non-null  object \n",
      " 1   underwater_visibility        197514 non-null  object \n",
      " 2   habitat_type                 197514 non-null  object \n",
      " 3   depth_strat                  197514 non-null  object \n",
      " 4   sub_region_name_description  197514 non-null  object \n",
      " 5   administration_description   197514 non-null  object \n",
      " 6   species_cd                   197514 non-null  object \n",
      " 7   len                          197514 non-null  object \n",
      " 8   num                          197514 non-null  float64\n",
      " 9   strat_description            197514 non-null  object \n",
      " 10  region_description           197514 non-null  object \n",
      "dtypes: float64(1), object(10)\n",
      "memory usage: 23.1+ MB\n"
     ]
    }
   ],
   "source": [
    "dataset.info()"
   ]
  },
  {
   "cell_type": "code",
   "execution_count": 44,
   "metadata": {},
   "outputs": [
    {
     "name": "stdout",
     "output_type": "stream",
     "text": [
      "sample_depth has 231 unique vals. \n",
      "underwater_visibility has 62 unique vals. \n",
      "habitat_type has 6 unique vals. \n",
      "depth_strat has 2 unique vals. \n",
      "sub_region_name_description has 9 unique vals. \n",
      "administration_description has 7 unique vals. \n",
      "species_cd has 232 unique vals. \n",
      "len has 215 unique vals. \n",
      "strat_description has 12 unique vals. \n",
      "region_description has 2 unique vals. \n"
     ]
    }
   ],
   "source": [
    "#finding the number of unique values of object type\n",
    "for col_name in dataset.columns:\n",
    "    if dataset[col_name].dtypes =='object':\n",
    "        a = dataset[col_name].unique()\n",
    "        a = len(a)\n",
    "        print(col_name + \" has \" + str(a) + \" unique vals. \")"
   ]
  },
  {
   "cell_type": "code",
   "execution_count": 45,
   "metadata": {},
   "outputs": [
    {
     "name": "stdout",
     "output_type": "stream",
     "text": [
      "<class 'pandas.core.frame.DataFrame'>\n",
      "Int64Index: 197514 entries, 1 to 197514\n",
      "Data columns (total 9 columns):\n",
      " #   Column                      Non-Null Count   Dtype  \n",
      "---  ------                      --------------   -----  \n",
      " 0   sample_depth                197514 non-null  object \n",
      " 1   underwater_visibility       197514 non-null  object \n",
      " 2   habitat_type                197514 non-null  object \n",
      " 3   administration_description  197514 non-null  object \n",
      " 4   species_cd                  197514 non-null  object \n",
      " 5   len                         197514 non-null  object \n",
      " 6   num                         197514 non-null  float64\n",
      " 7   strat_description           197514 non-null  object \n",
      " 8   region_description          197514 non-null  object \n",
      "dtypes: float64(1), object(8)\n",
      "memory usage: 20.1+ MB\n"
     ]
    }
   ],
   "source": [
    "dataset.drop(['depth_strat'], inplace = True, axis = 1)\n",
    "dataset.drop(['sub_region_name_description'], inplace = True, axis = 1)\n",
    "dataset.info()"
   ]
  },
  {
   "cell_type": "code",
   "execution_count": 46,
   "metadata": {},
   "outputs": [
    {
     "data": {
      "text/html": [
       "<div>\n",
       "<style scoped>\n",
       "    .dataframe tbody tr th:only-of-type {\n",
       "        vertical-align: middle;\n",
       "    }\n",
       "\n",
       "    .dataframe tbody tr th {\n",
       "        vertical-align: top;\n",
       "    }\n",
       "\n",
       "    .dataframe thead th {\n",
       "        text-align: right;\n",
       "    }\n",
       "</style>\n",
       "<table border=\"1\" class=\"dataframe\">\n",
       "  <thead>\n",
       "    <tr style=\"text-align: right;\">\n",
       "      <th></th>\n",
       "      <th>sample_depth</th>\n",
       "      <th>underwater_visibility</th>\n",
       "      <th>habitat_type</th>\n",
       "      <th>administration_description</th>\n",
       "      <th>species_cd</th>\n",
       "      <th>len</th>\n",
       "      <th>num</th>\n",
       "      <th>strat_description</th>\n",
       "      <th>region_description</th>\n",
       "    </tr>\n",
       "  </thead>\n",
       "  <tbody>\n",
       "    <tr>\n",
       "      <th>1</th>\n",
       "      <td>1.8</td>\n",
       "      <td>9.5</td>\n",
       "      <td>Bedrock</td>\n",
       "      <td>Buck Island Reef National Monument</td>\n",
       "      <td>APO BINO</td>\n",
       "      <td>0.0</td>\n",
       "      <td>0.0</td>\n",
       "      <td>Bedrock shallow</td>\n",
       "      <td>St. Croix - U.S. Virgin Islands</td>\n",
       "    </tr>\n",
       "    <tr>\n",
       "      <th>2</th>\n",
       "      <td>1.8</td>\n",
       "      <td>9.5</td>\n",
       "      <td>Bedrock</td>\n",
       "      <td>Buck Island Reef National Monument</td>\n",
       "      <td>GYM MILI</td>\n",
       "      <td>0.0</td>\n",
       "      <td>0.0</td>\n",
       "      <td>Bedrock shallow</td>\n",
       "      <td>St. Croix - U.S. Virgin Islands</td>\n",
       "    </tr>\n",
       "    <tr>\n",
       "      <th>3</th>\n",
       "      <td>1.8</td>\n",
       "      <td>9.5</td>\n",
       "      <td>Bedrock</td>\n",
       "      <td>Buck Island Reef National Monument</td>\n",
       "      <td>MON CILI</td>\n",
       "      <td>0.0</td>\n",
       "      <td>0.0</td>\n",
       "      <td>Bedrock shallow</td>\n",
       "      <td>St. Croix - U.S. Virgin Islands</td>\n",
       "    </tr>\n",
       "    <tr>\n",
       "      <th>4</th>\n",
       "      <td>1.8</td>\n",
       "      <td>9.5</td>\n",
       "      <td>Bedrock</td>\n",
       "      <td>Buck Island Reef National Monument</td>\n",
       "      <td>ACA BAHI</td>\n",
       "      <td>3.0</td>\n",
       "      <td>0.0</td>\n",
       "      <td>Bedrock shallow</td>\n",
       "      <td>St. Croix - U.S. Virgin Islands</td>\n",
       "    </tr>\n",
       "    <tr>\n",
       "      <th>5</th>\n",
       "      <td>1.8</td>\n",
       "      <td>9.5</td>\n",
       "      <td>Bedrock</td>\n",
       "      <td>Buck Island Reef National Monument</td>\n",
       "      <td>ACA BAHI</td>\n",
       "      <td>8.0</td>\n",
       "      <td>3.0</td>\n",
       "      <td>Bedrock shallow</td>\n",
       "      <td>St. Croix - U.S. Virgin Islands</td>\n",
       "    </tr>\n",
       "  </tbody>\n",
       "</table>\n",
       "</div>"
      ],
      "text/plain": [
       "  sample_depth underwater_visibility habitat_type  \\\n",
       "1          1.8                   9.5      Bedrock   \n",
       "2          1.8                   9.5      Bedrock   \n",
       "3          1.8                   9.5      Bedrock   \n",
       "4          1.8                   9.5      Bedrock   \n",
       "5          1.8                   9.5      Bedrock   \n",
       "\n",
       "           administration_description species_cd  len  num strat_description  \\\n",
       "1  Buck Island Reef National Monument   APO BINO  0.0  0.0   Bedrock shallow   \n",
       "2  Buck Island Reef National Monument   GYM MILI  0.0  0.0   Bedrock shallow   \n",
       "3  Buck Island Reef National Monument   MON CILI  0.0  0.0   Bedrock shallow   \n",
       "4  Buck Island Reef National Monument   ACA BAHI  3.0  0.0   Bedrock shallow   \n",
       "5  Buck Island Reef National Monument   ACA BAHI  8.0  3.0   Bedrock shallow   \n",
       "\n",
       "                region_description  \n",
       "1  St. Croix - U.S. Virgin Islands  \n",
       "2  St. Croix - U.S. Virgin Islands  \n",
       "3  St. Croix - U.S. Virgin Islands  \n",
       "4  St. Croix - U.S. Virgin Islands  \n",
       "5  St. Croix - U.S. Virgin Islands  "
      ]
     },
     "execution_count": 46,
     "metadata": {},
     "output_type": "execute_result"
    }
   ],
   "source": [
    "dataset.head(5)"
   ]
  },
  {
   "cell_type": "code",
   "execution_count": 47,
   "metadata": {},
   "outputs": [
    {
     "data": {
      "text/plain": [
       "sample_depth                  0\n",
       "underwater_visibility         0\n",
       "habitat_type                  0\n",
       "administration_description    0\n",
       "species_cd                    0\n",
       "len                           0\n",
       "num                           0\n",
       "strat_description             0\n",
       "region_description            0\n",
       "dtype: int64"
      ]
     },
     "execution_count": 47,
     "metadata": {},
     "output_type": "execute_result"
    }
   ],
   "source": [
    "dataset.isna().sum()"
   ]
  },
  {
   "cell_type": "code",
   "execution_count": 48,
   "metadata": {},
   "outputs": [
    {
     "name": "stdout",
     "output_type": "stream",
     "text": [
      "<class 'pandas.core.frame.DataFrame'>\n",
      "Int64Index: 197514 entries, 1 to 197514\n",
      "Data columns (total 9 columns):\n",
      " #   Column                      Non-Null Count   Dtype \n",
      "---  ------                      --------------   ----- \n",
      " 0   sample_depth                197514 non-null  int32 \n",
      " 1   underwater_visibility       197514 non-null  int32 \n",
      " 2   habitat_type                197514 non-null  object\n",
      " 3   administration_description  197514 non-null  object\n",
      " 4   species_cd                  197514 non-null  object\n",
      " 5   len                         197514 non-null  int32 \n",
      " 6   num                         197514 non-null  int32 \n",
      " 7   strat_description           197514 non-null  object\n",
      " 8   region_description          197514 non-null  object\n",
      "dtypes: int32(4), object(5)\n",
      "memory usage: 17.1+ MB\n"
     ]
    }
   ],
   "source": [
    "dataset['sample_depth']= pd.to_numeric(dataset['sample_depth']).astype(int)\n",
    "dataset['underwater_visibility']= pd.to_numeric(dataset['underwater_visibility']).astype(int)\n",
    "dataset['len']= pd.to_numeric(dataset['len']).astype(int)\n",
    "dataset['num']= pd.to_numeric(dataset['num']).astype(int)\n",
    "\n",
    "dataset.info()\n"
   ]
  },
  {
   "cell_type": "code",
   "execution_count": 49,
   "metadata": {},
   "outputs": [
    {
     "data": {
      "image/png": "[encoded data removed]",
      "text/plain": [
       "<Figure size 288x288 with 1 Axes>"
      ]
     },
     "metadata": {},
     "output_type": "display_data"
    }
   ],
   "source": [
    "a = dataset['strat_description'].value_counts().head(4)\n",
    "my_colors = ['lightblue','lightsteelblue','silver', 'lightpink']\n",
    "my_explode = (0.1, 0, 0,0 )\n",
    "a.plot.pie(figsize = (4,4), autopct = '%1.1f%%', startangle = 90, explode= my_explode, shadow= True, colors = my_colors)\n",
    "plt.title('Strata Type')\n",
    "plt.axis('equal')\n",
    "plt.show()\n"
   ]
  },
  {
   "cell_type": "code",
   "execution_count": 50,
   "metadata": {},
   "outputs": [],
   "source": [
    "def standarize(arg):\n",
    "    if arg == \"Aggregate reef deep\":\n",
    "        return 0\n",
    "    elif arg == \"Aggregate reef shallow\":\n",
    "        return 1\n",
    "    elif arg == \"Bedrock deep\":\n",
    "        return 2\n",
    "    elif arg == \"Bedrock shallow\":\n",
    "        return 3\n",
    "    elif arg == \"Hard (unknown) deep\":\n",
    "        return 4\n",
    "    elif arg == \"Hard (unknown) shallow\":\n",
    "        return 5\n",
    "    elif arg == \"Patch reef (Aggregate and individual) deep\":\n",
    "        return 6\n",
    "    elif arg == \"Patch reef (Aggregate and individual) shallow\":\n",
    "        return 7\n",
    "    elif arg == \"Pavement deep\":\n",
    "        return 8\n",
    "    elif arg == \"Pavement shallow\":\n",
    "        return 9\n",
    "    elif arg == \"Scattered coral and rock deep\":\n",
    "        return 10\n",
    "    elif arg == \"Scattered coral and rock shallow\":\n",
    "        return 11"
   ]
  },
  {
   "cell_type": "code",
   "execution_count": 51,
   "metadata": {},
   "outputs": [
    {
     "data": {
      "text/html": [
       "<div>\n",
       "<style scoped>\n",
       "    .dataframe tbody tr th:only-of-type {\n",
       "        vertical-align: middle;\n",
       "    }\n",
       "\n",
       "    .dataframe tbody tr th {\n",
       "        vertical-align: top;\n",
       "    }\n",
       "\n",
       "    .dataframe thead th {\n",
       "        text-align: right;\n",
       "    }\n",
       "</style>\n",
       "<table border=\"1\" class=\"dataframe\">\n",
       "  <thead>\n",
       "    <tr style=\"text-align: right;\">\n",
       "      <th></th>\n",
       "      <th>sample_depth</th>\n",
       "      <th>underwater_visibility</th>\n",
       "      <th>habitat_type</th>\n",
       "      <th>administration_description</th>\n",
       "      <th>species_cd</th>\n",
       "      <th>len</th>\n",
       "      <th>num</th>\n",
       "      <th>strat_description</th>\n",
       "      <th>region_description</th>\n",
       "    </tr>\n",
       "  </thead>\n",
       "  <tbody>\n",
       "    <tr>\n",
       "      <th>1</th>\n",
       "      <td>1</td>\n",
       "      <td>9</td>\n",
       "      <td>Bedrock</td>\n",
       "      <td>Buck Island Reef National Monument</td>\n",
       "      <td>APO BINO</td>\n",
       "      <td>0</td>\n",
       "      <td>0</td>\n",
       "      <td>3</td>\n",
       "      <td>St. Croix - U.S. Virgin Islands</td>\n",
       "    </tr>\n",
       "    <tr>\n",
       "      <th>2</th>\n",
       "      <td>1</td>\n",
       "      <td>9</td>\n",
       "      <td>Bedrock</td>\n",
       "      <td>Buck Island Reef National Monument</td>\n",
       "      <td>GYM MILI</td>\n",
       "      <td>0</td>\n",
       "      <td>0</td>\n",
       "      <td>3</td>\n",
       "      <td>St. Croix - U.S. Virgin Islands</td>\n",
       "    </tr>\n",
       "    <tr>\n",
       "      <th>3</th>\n",
       "      <td>1</td>\n",
       "      <td>9</td>\n",
       "      <td>Bedrock</td>\n",
       "      <td>Buck Island Reef National Monument</td>\n",
       "      <td>MON CILI</td>\n",
       "      <td>0</td>\n",
       "      <td>0</td>\n",
       "      <td>3</td>\n",
       "      <td>St. Croix - U.S. Virgin Islands</td>\n",
       "    </tr>\n",
       "    <tr>\n",
       "      <th>4</th>\n",
       "      <td>1</td>\n",
       "      <td>9</td>\n",
       "      <td>Bedrock</td>\n",
       "      <td>Buck Island Reef National Monument</td>\n",
       "      <td>ACA BAHI</td>\n",
       "      <td>3</td>\n",
       "      <td>0</td>\n",
       "      <td>3</td>\n",
       "      <td>St. Croix - U.S. Virgin Islands</td>\n",
       "    </tr>\n",
       "    <tr>\n",
       "      <th>5</th>\n",
       "      <td>1</td>\n",
       "      <td>9</td>\n",
       "      <td>Bedrock</td>\n",
       "      <td>Buck Island Reef National Monument</td>\n",
       "      <td>ACA BAHI</td>\n",
       "      <td>8</td>\n",
       "      <td>3</td>\n",
       "      <td>3</td>\n",
       "      <td>St. Croix - U.S. Virgin Islands</td>\n",
       "    </tr>\n",
       "  </tbody>\n",
       "</table>\n",
       "</div>"
      ],
      "text/plain": [
       "   sample_depth  underwater_visibility habitat_type  \\\n",
       "1             1                      9      Bedrock   \n",
       "2             1                      9      Bedrock   \n",
       "3             1                      9      Bedrock   \n",
       "4             1                      9      Bedrock   \n",
       "5             1                      9      Bedrock   \n",
       "\n",
       "           administration_description species_cd  len  num  strat_description  \\\n",
       "1  Buck Island Reef National Monument   APO BINO    0    0                  3   \n",
       "2  Buck Island Reef National Monument   GYM MILI    0    0                  3   \n",
       "3  Buck Island Reef National Monument   MON CILI    0    0                  3   \n",
       "4  Buck Island Reef National Monument   ACA BAHI    3    0                  3   \n",
       "5  Buck Island Reef National Monument   ACA BAHI    8    3                  3   \n",
       "\n",
       "                region_description  \n",
       "1  St. Croix - U.S. Virgin Islands  \n",
       "2  St. Croix - U.S. Virgin Islands  \n",
       "3  St. Croix - U.S. Virgin Islands  \n",
       "4  St. Croix - U.S. Virgin Islands  \n",
       "5  St. Croix - U.S. Virgin Islands  "
      ]
     },
     "execution_count": 51,
     "metadata": {},
     "output_type": "execute_result"
    }
   ],
   "source": [
    "dataset[\"strat_description\"] = dataset[\"strat_description\"].apply(lambda x: standarize(x))\n",
    "dataset.head()"
   ]
  },
  {
   "cell_type": "code",
   "execution_count": 52,
   "metadata": {},
   "outputs": [],
   "source": [
    "def dummy_df(df):\n",
    "    todummy_list = ['habitat_type','species_cd', 'administration_description', 'region_description']\n",
    "    for x in todummy_list:\n",
    "        dummies = pd.get_dummies(df[x], dummy_na = False)\n",
    "        df = df.drop(x, 1)\n",
    "        df = pd.concat([df, dummies], axis = 1)\n",
    "    \n",
    "    return df"
   ]
  },
  {
   "cell_type": "code",
   "execution_count": 53,
   "metadata": {},
   "outputs": [
    {
     "data": {
      "text/html": [
       "<div>\n",
       "<style scoped>\n",
       "    .dataframe tbody tr th:only-of-type {\n",
       "        vertical-align: middle;\n",
       "    }\n",
       "\n",
       "    .dataframe tbody tr th {\n",
       "        vertical-align: top;\n",
       "    }\n",
       "\n",
       "    .dataframe thead th {\n",
       "        text-align: right;\n",
       "    }\n",
       "</style>\n",
       "<table border=\"1\" class=\"dataframe\">\n",
       "  <thead>\n",
       "    <tr style=\"text-align: right;\">\n",
       "      <th></th>\n",
       "      <th>sample_depth</th>\n",
       "      <th>underwater_visibility</th>\n",
       "      <th>len</th>\n",
       "      <th>num</th>\n",
       "      <th>strat_description</th>\n",
       "      <th>Aggregate reef</th>\n",
       "      <th>Bedrock</th>\n",
       "      <th>Hard (unknown)</th>\n",
       "      <th>Patch reef (Aggregate and individual)</th>\n",
       "      <th>Pavement</th>\n",
       "      <th>...</th>\n",
       "      <th>XYR SPLE</th>\n",
       "      <th>All non-managed areas</th>\n",
       "      <th>Buck Island Reef National Monument</th>\n",
       "      <th>Salt River National Historical Park and Ecological Preserve</th>\n",
       "      <th>St. Croix East End Marine Park</th>\n",
       "      <th>St. Thomas East End Reserves</th>\n",
       "      <th>Virgin Islands Coral Reef National Monument</th>\n",
       "      <th>Virgin Islands National Park</th>\n",
       "      <th>St. Croix - U.S. Virgin Islands</th>\n",
       "      <th>St. Thomas and St. John - U.S. Virgin Islands</th>\n",
       "    </tr>\n",
       "  </thead>\n",
       "  <tbody>\n",
       "    <tr>\n",
       "      <th>1</th>\n",
       "      <td>1</td>\n",
       "      <td>9</td>\n",
       "      <td>0</td>\n",
       "      <td>0</td>\n",
       "      <td>3</td>\n",
       "      <td>0</td>\n",
       "      <td>1</td>\n",
       "      <td>0</td>\n",
       "      <td>0</td>\n",
       "      <td>0</td>\n",
       "      <td>...</td>\n",
       "      <td>0</td>\n",
       "      <td>0</td>\n",
       "      <td>1</td>\n",
       "      <td>0</td>\n",
       "      <td>0</td>\n",
       "      <td>0</td>\n",
       "      <td>0</td>\n",
       "      <td>0</td>\n",
       "      <td>1</td>\n",
       "      <td>0</td>\n",
       "    </tr>\n",
       "    <tr>\n",
       "      <th>2</th>\n",
       "      <td>1</td>\n",
       "      <td>9</td>\n",
       "      <td>0</td>\n",
       "      <td>0</td>\n",
       "      <td>3</td>\n",
       "      <td>0</td>\n",
       "      <td>1</td>\n",
       "      <td>0</td>\n",
       "      <td>0</td>\n",
       "      <td>0</td>\n",
       "      <td>...</td>\n",
       "      <td>0</td>\n",
       "      <td>0</td>\n",
       "      <td>1</td>\n",
       "      <td>0</td>\n",
       "      <td>0</td>\n",
       "      <td>0</td>\n",
       "      <td>0</td>\n",
       "      <td>0</td>\n",
       "      <td>1</td>\n",
       "      <td>0</td>\n",
       "    </tr>\n",
       "    <tr>\n",
       "      <th>3</th>\n",
       "      <td>1</td>\n",
       "      <td>9</td>\n",
       "      <td>0</td>\n",
       "      <td>0</td>\n",
       "      <td>3</td>\n",
       "      <td>0</td>\n",
       "      <td>1</td>\n",
       "      <td>0</td>\n",
       "      <td>0</td>\n",
       "      <td>0</td>\n",
       "      <td>...</td>\n",
       "      <td>0</td>\n",
       "      <td>0</td>\n",
       "      <td>1</td>\n",
       "      <td>0</td>\n",
       "      <td>0</td>\n",
       "      <td>0</td>\n",
       "      <td>0</td>\n",
       "      <td>0</td>\n",
       "      <td>1</td>\n",
       "      <td>0</td>\n",
       "    </tr>\n",
       "    <tr>\n",
       "      <th>4</th>\n",
       "      <td>1</td>\n",
       "      <td>9</td>\n",
       "      <td>3</td>\n",
       "      <td>0</td>\n",
       "      <td>3</td>\n",
       "      <td>0</td>\n",
       "      <td>1</td>\n",
       "      <td>0</td>\n",
       "      <td>0</td>\n",
       "      <td>0</td>\n",
       "      <td>...</td>\n",
       "      <td>0</td>\n",
       "      <td>0</td>\n",
       "      <td>1</td>\n",
       "      <td>0</td>\n",
       "      <td>0</td>\n",
       "      <td>0</td>\n",
       "      <td>0</td>\n",
       "      <td>0</td>\n",
       "      <td>1</td>\n",
       "      <td>0</td>\n",
       "    </tr>\n",
       "    <tr>\n",
       "      <th>5</th>\n",
       "      <td>1</td>\n",
       "      <td>9</td>\n",
       "      <td>8</td>\n",
       "      <td>3</td>\n",
       "      <td>3</td>\n",
       "      <td>0</td>\n",
       "      <td>1</td>\n",
       "      <td>0</td>\n",
       "      <td>0</td>\n",
       "      <td>0</td>\n",
       "      <td>...</td>\n",
       "      <td>0</td>\n",
       "      <td>0</td>\n",
       "      <td>1</td>\n",
       "      <td>0</td>\n",
       "      <td>0</td>\n",
       "      <td>0</td>\n",
       "      <td>0</td>\n",
       "      <td>0</td>\n",
       "      <td>1</td>\n",
       "      <td>0</td>\n",
       "    </tr>\n",
       "  </tbody>\n",
       "</table>\n",
       "<p>5 rows × 252 columns</p>\n",
       "</div>"
      ],
      "text/plain": [
       "   sample_depth  underwater_visibility  len  num  strat_description  \\\n",
       "1             1                      9    0    0                  3   \n",
       "2             1                      9    0    0                  3   \n",
       "3             1                      9    0    0                  3   \n",
       "4             1                      9    3    0                  3   \n",
       "5             1                      9    8    3                  3   \n",
       "\n",
       "   Aggregate reef  Bedrock  Hard (unknown)  \\\n",
       "1               0        1               0   \n",
       "2               0        1               0   \n",
       "3               0        1               0   \n",
       "4               0        1               0   \n",
       "5               0        1               0   \n",
       "\n",
       "   Patch reef (Aggregate and individual)  Pavement  ...  XYR SPLE  \\\n",
       "1                                      0         0  ...         0   \n",
       "2                                      0         0  ...         0   \n",
       "3                                      0         0  ...         0   \n",
       "4                                      0         0  ...         0   \n",
       "5                                      0         0  ...         0   \n",
       "\n",
       "   All non-managed areas  Buck Island Reef National Monument  \\\n",
       "1                      0                                   1   \n",
       "2                      0                                   1   \n",
       "3                      0                                   1   \n",
       "4                      0                                   1   \n",
       "5                      0                                   1   \n",
       "\n",
       "   Salt River National Historical Park and Ecological Preserve  \\\n",
       "1                                                  0             \n",
       "2                                                  0             \n",
       "3                                                  0             \n",
       "4                                                  0             \n",
       "5                                                  0             \n",
       "\n",
       "   St. Croix East End Marine Park  St. Thomas East End Reserves  \\\n",
       "1                               0                             0   \n",
       "2                               0                             0   \n",
       "3                               0                             0   \n",
       "4                               0                             0   \n",
       "5                               0                             0   \n",
       "\n",
       "   Virgin Islands Coral Reef National Monument  Virgin Islands National Park  \\\n",
       "1                                            0                             0   \n",
       "2                                            0                             0   \n",
       "3                                            0                             0   \n",
       "4                                            0                             0   \n",
       "5                                            0                             0   \n",
       "\n",
       "   St. Croix - U.S. Virgin Islands  \\\n",
       "1                                1   \n",
       "2                                1   \n",
       "3                                1   \n",
       "4                                1   \n",
       "5                                1   \n",
       "\n",
       "   St. Thomas and St. John - U.S. Virgin Islands  \n",
       "1                                              0  \n",
       "2                                              0  \n",
       "3                                              0  \n",
       "4                                              0  \n",
       "5                                              0  \n",
       "\n",
       "[5 rows x 252 columns]"
      ]
     },
     "execution_count": 53,
     "metadata": {},
     "output_type": "execute_result"
    }
   ],
   "source": [
    "dataset = dummy_df(dataset)\n",
    "dataset.head(5)"
   ]
  },
  {
   "cell_type": "code",
   "execution_count": 54,
   "metadata": {},
   "outputs": [
    {
     "data": {
      "text/plain": [
       "St. Thomas and St. John - U.S. Virgin Islands    0\n",
       "CRY ROSE                                         0\n",
       "EPI ADSC                                         0\n",
       "ELA OCEA                                         0\n",
       "ELA EVEL                                         0\n",
       "dtype: int64"
      ]
     },
     "execution_count": 54,
     "metadata": {},
     "output_type": "execute_result"
    }
   ],
   "source": [
    "dataset.isnull().sum().sort_values(ascending = False).head()"
   ]
  },
  {
   "cell_type": "code",
   "execution_count": 55,
   "metadata": {},
   "outputs": [
    {
     "name": "stdout",
     "output_type": "stream",
     "text": [
      "(197514, 251)\n"
     ]
    }
   ],
   "source": [
    "X = dataset.drop('strat_description', 1)\n",
    "y = dataset['strat_description']\n",
    "print(X.shape)"
   ]
  },
  {
   "cell_type": "code",
   "execution_count": 56,
   "metadata": {},
   "outputs": [],
   "source": [
    "from sklearn.metrics import accuracy_score\n",
    "from sklearn.model_selection import train_test_split\n",
    "from sklearn.metrics import classification_report,confusion_matrix\n",
    "from sklearn.ensemble import RandomForestClassifier, AdaBoostClassifier, BaggingClassifier\n",
    "from sklearn.neighbors import KNeighborsClassifier\n",
    "from sklearn.tree import DecisionTreeClassifier"
   ]
  },
  {
   "cell_type": "code",
   "execution_count": 57,
   "metadata": {},
   "outputs": [
    {
     "name": "stdout",
     "output_type": "stream",
     "text": [
      "(138259, 251)\n",
      "(59255, 251)\n",
      "(138259,)\n",
      "(59255,)\n"
     ]
    }
   ],
   "source": [
    "x_train, x_test, y_train, y_test = train_test_split(X, y, test_size = 0.30, random_state = 0)\n",
    "print(x_train.shape)\n",
    "print(x_test.shape)\n",
    "print(y_train.shape)\n",
    "print(y_test.shape)"
   ]
  },
  {
   "cell_type": "code",
   "execution_count": 58,
   "metadata": {},
   "outputs": [
    {
     "name": "stdout",
     "output_type": "stream",
     "text": [
      "SGD train score:  0.9917202944348036\n",
      "SGD testing_score:  0.9915817352420832\n",
      "Execution Time:  \n",
      " 1.2446205615997314  seconds\n"
     ]
    }
   ],
   "source": [
    "# Stochastic Gradient Decent (SGD) is an optimization method for linear classifiers and regressors. It is efficient \n",
    "# and helps scale down training samples with large amounts of features.\n",
    "\n",
    "from sklearn.linear_model import SGDRegressor\n",
    "from sklearn import preprocessing\n",
    "scaler = preprocessing.StandardScaler()\n",
    "x_train = scaler.fit_transform(x_train)\n",
    "x_test = scaler.transform(x_test)\n",
    "\n",
    "start_time = time.time()\n",
    "\n",
    "clf = SGDRegressor(max_iter=1000, tol=1e-3)\n",
    "sgd = clf.fit(x_train, y_train)\n",
    "y_pred = clf.predict(x_test)\n",
    "SGD_training_score = sgd.score(x_train, y_train)\n",
    "print('SGD train score: ', SGD_training_score)\n",
    "SGD_testing_score = sgd.score(x_test, y_test)\n",
    "print('SGD testing_score: ', SGD_testing_score)\n",
    "print('Execution Time:  \\n', time.time() - start_time, \" seconds\")"
   ]
  },
  {
   "cell_type": "code",
   "execution_count": 59,
   "metadata": {},
   "outputs": [
    {
     "name": "stdout",
     "output_type": "stream",
     "text": [
      "Execution Time:  \n",
      " 22.74068021774292  seconds\n"
     ]
    },
    {
     "name": "stderr",
     "output_type": "stream",
     "text": [
      "c:\\users\\shreeja\\appdata\\local\\programs\\python\\python38\\lib\\site-packages\\sklearn\\linear_model\\_logistic.py:938: ConvergenceWarning: lbfgs failed to converge (status=1):\n",
      "STOP: TOTAL NO. of ITERATIONS REACHED LIMIT.\n",
      "\n",
      "Increase the number of iterations (max_iter) or scale the data as shown in:\n",
      "    https://scikit-learn.org/stable/modules/preprocessing.html\n",
      "Please also refer to the documentation for alternative solver options:\n",
      "    https://scikit-learn.org/stable/modules/linear_model.html#logistic-regression\n",
      "  n_iter_i = _check_optimize_result(\n"
     ]
    }
   ],
   "source": [
    "# Logistical Regression is a predictive model that works best when the target feature is binary. It is based on\n",
    "# the logistic function.\n",
    "\n",
    "from sklearn.linear_model import LinearRegression, LogisticRegression\n",
    "from sklearn.ensemble import RandomForestRegressor\n",
    "\n",
    "start_time = time.time()\n",
    "\n",
    "logr = LogisticRegression().fit(x_train, y_train)\n",
    "\n",
    "print('Execution Time:  \\n', time.time() - start_time, \" seconds\")\n"
   ]
  },
  {
   "cell_type": "code",
   "execution_count": 60,
   "metadata": {},
   "outputs": [
    {
     "name": "stdout",
     "output_type": "stream",
     "text": [
      "Logistic Regression prediction:  [4 0 4 ... 4 6 9]\n",
      "Training score:  96.5\n",
      "Testing score:  96.27\n",
      "Accuracy:  96.27\n"
     ]
    }
   ],
   "source": [
    "log_training_score = logr.score(x_train, y_train)\n",
    "y_pred = logr.predict(x_test)\n",
    "log_training_score = round(logr.score(x_train, y_train) *100, 2 )\n",
    "log_testing_score = round(logr.score(x_test, y_test)*100, 2)\n",
    "print('Logistic Regression prediction: ', y_pred)\n",
    "print('Training score: ', log_training_score)\n",
    "print('Testing score: ', log_testing_score)\n",
    "log_accuracy_score = accuracy_score(y_test, y_pred)\n",
    "print('Accuracy: ',log_testing_score)\n",
    "\n"
   ]
  },
  {
   "cell_type": "code",
   "execution_count": 61,
   "metadata": {},
   "outputs": [
    {
     "data": {
      "text/plain": [
       "0     0.172264\n",
       "1     0.137264\n",
       "2     0.005258\n",
       "3     0.056416\n",
       "4     0.206735\n",
       "5     0.008947\n",
       "6     0.097209\n",
       "7     0.064596\n",
       "8     0.133105\n",
       "9     0.069276\n",
       "10    0.029626\n",
       "11    0.019304\n",
       "Name: strat_description, dtype: float64"
      ]
     },
     "execution_count": 61,
     "metadata": {},
     "output_type": "execute_result"
    }
   ],
   "source": [
    "y_train.value_counts(normalize= True).sort_index()"
   ]
  },
  {
   "cell_type": "code",
   "execution_count": 62,
   "metadata": {},
   "outputs": [
    {
     "data": {
      "text/plain": [
       "0     0.170703\n",
       "1     0.135786\n",
       "2     0.005147\n",
       "3     0.057902\n",
       "4     0.207426\n",
       "5     0.008657\n",
       "6     0.098253\n",
       "7     0.067032\n",
       "8     0.131584\n",
       "9     0.068450\n",
       "10    0.030276\n",
       "11    0.018783\n",
       "Name: strat_description, dtype: float64"
      ]
     },
     "execution_count": 62,
     "metadata": {},
     "output_type": "execute_result"
    }
   ],
   "source": [
    "y_test.value_counts(normalize=True).sort_index()"
   ]
  },
  {
   "cell_type": "code",
   "execution_count": 63,
   "metadata": {
    "scrolled": false
   },
   "outputs": [
    {
     "name": "stdout",
     "output_type": "stream",
     "text": [
      "Random Forest Training Score: \n",
      " 99.68\n",
      "Random Forest Testing Score: \n",
      " 99.13\n",
      "Accuracy: \n",
      " 0.991308750316429\n",
      "Classification Report:  \n",
      "               precision    recall  f1-score   support\n",
      "\n",
      "           0       0.99      0.99      0.99     10115\n",
      "           1       0.99      0.98      0.99      8046\n",
      "           2       1.00      1.00      1.00       305\n",
      "           3       1.00      1.00      1.00      3431\n",
      "           4       1.00      1.00      1.00     12291\n",
      "           5       1.00      1.00      1.00       513\n",
      "           6       0.97      0.98      0.98      5822\n",
      "           7       0.97      0.96      0.96      3972\n",
      "           8       1.00      1.00      1.00      7797\n",
      "           9       1.00      1.00      1.00      4056\n",
      "          10       1.00      1.00      1.00      1794\n",
      "          11       1.00      1.00      1.00      1113\n",
      "\n",
      "    accuracy                           0.99     59255\n",
      "   macro avg       0.99      0.99      0.99     59255\n",
      "weighted avg       0.99      0.99      0.99     59255\n",
      "\n",
      "Confusion matrix:  \n",
      " [[10015   100     0     0     0     0     0     0     0     0     0     0]\n",
      " [  129  7917     0     0     0     0     0     0     0     0     0     0]\n",
      " [    0     0   305     0     0     0     0     0     0     0     0     0]\n",
      " [    0     0     0  3431     0     0     0     0     0     0     0     0]\n",
      " [    0     0     0     0 12291     0     0     0     0     0     0     0]\n",
      " [    0     0     0     0     0   513     0     0     0     0     0     0]\n",
      " [    0     0     0     0     0     0  5695   127     0     0     0     0]\n",
      " [    0     0     0     0     0     0   158  3814     0     0     0     0]\n",
      " [    0     0     0     0     0     0     0     0  7796     1     0     0]\n",
      " [    0     0     0     0     0     0     0     0     0  4056     0     0]\n",
      " [    0     0     0     0     0     0     0     0     0     0  1794     0]\n",
      " [    0     0     0     0     0     0     0     0     0     0     0  1113]]\n",
      "Execution Time:  \n",
      " 51.8835825920105  seconds\n"
     ]
    }
   ],
   "source": [
    "# The Random Forest Classifier is an ensemble of individual and random decision trees working together to classify \n",
    "# data. Each tree gives a prediction, and the overal consensus becomes the overall prediction. \n",
    "\n",
    "start_time = time.time()\n",
    "\n",
    "random_forest = RandomForestClassifier(n_estimators = 100)\n",
    "random_forest.fit(x_train, y_train)\n",
    "random_forest_predicted = random_forest.predict(x_test)\n",
    "random_forest_training_score = round(random_forest.score(x_train, y_train) *100, 2 )\n",
    "random_forest_testing_score = round(random_forest.score(x_test, y_test)*100, 2)\n",
    "print('Random Forest Training Score: \\n', random_forest_training_score)\n",
    "print('Random Forest Testing Score: \\n', random_forest_testing_score)\n",
    "print('Accuracy: \\n', accuracy_score(y_test, random_forest_predicted))\n",
    "print('Classification Report:  \\n', classification_report(y_test, random_forest_predicted))\n",
    "print('Confusion matrix:  \\n', confusion_matrix(y_test, random_forest_predicted))\n",
    "print('Execution Time:  \\n', time.time() - start_time, \" seconds\")"
   ]
  },
  {
   "cell_type": "code",
   "execution_count": 64,
   "metadata": {
    "scrolled": true
   },
   "outputs": [
    {
     "name": "stdout",
     "output_type": "stream",
     "text": [
      "Training accuracy is:  91.56\n",
      "Testing accuracy is:  85.8\n",
      "Classification Report:  \n",
      "               precision    recall  f1-score   support\n",
      "\n",
      "           0       0.77      0.93      0.85     10115\n",
      "           1       0.89      0.74      0.80      8046\n",
      "           2       0.89      0.63      0.74       305\n",
      "           3       0.97      0.96      0.96      3431\n",
      "           4       0.97      0.98      0.98     12291\n",
      "           5       0.99      0.20      0.33       513\n",
      "           6       0.80      0.89      0.84      5822\n",
      "           7       0.85      0.63      0.72      3972\n",
      "           8       0.82      0.94      0.88      7797\n",
      "           9       0.88      0.62      0.73      4056\n",
      "          10       0.76      0.91      0.83      1794\n",
      "          11       0.83      0.52      0.64      1113\n",
      "\n",
      "    accuracy                           0.86     59255\n",
      "   macro avg       0.87      0.75      0.77     59255\n",
      "weighted avg       0.86      0.86      0.85     59255\n",
      "\n",
      "Confusion Matrix \n",
      " [[ 9453   631     0     0     4     0     3     0    24     0     0     0]\n",
      " [ 2106  5922     0     2     0     0     2     1     2    11     0     0]\n",
      " [    0     0   193   112     0     0     0     0     0     0     0     0]\n",
      " [   64    42    24  3279     0     0     2     2     0    18     0     0]\n",
      " [  154     3     0     1 12097     1     0     0    34     1     0     0]\n",
      " [    0     0     0     0   410   103     0     0     0     0     0     0]\n",
      " [  162     2     0     0     1     0  5195   451    11     0     0     0]\n",
      " [   10    74     0     0     1     0  1327  2489     1    70     0     0]\n",
      " [  194    10     0     0     0     0     2     0  7363   228     0     0]\n",
      " [   33     2     0     0     0     0     0     1  1493  2527     0     0]\n",
      " [   30     0     0     0     4     0     0     0     0     0  1638   122]\n",
      " [    3     0     0     0     0     0     0     0     0     8   523   579]]\n",
      "Execution Time:  \n",
      " 2764.9379794597626  seconds\n"
     ]
    }
   ],
   "source": [
    "# K-Nearest Neighbor Classification is an unsupervised algorithm, and works by understanding the basic structure of\n",
    "# the data. It makes predictions under the assumption that similar data exists in close proximity. By calculating distance\n",
    "# between graphed points, it classifies data based on its closeness to similar data.\n",
    "\n",
    "start_time = time.time()\n",
    "\n",
    "knn = KNeighborsClassifier(n_neighbors = 4)\n",
    "knn.fit(x_train,y_train)\n",
    "y_prediction = knn.predict(x_test)\n",
    "knn_training_accuracy = round(accuracy_score(y_train, knn.predict(x_train)) *100, 2)\n",
    "knn_testing_accuracy = round(accuracy_score(y_test, y_prediction)*100 , 2)\n",
    "print(\"Training accuracy is: \", knn_training_accuracy)\n",
    "print(\"Testing accuracy is: \", knn_testing_accuracy)\n",
    "print('Classification Report:  \\n', classification_report(y_test, y_prediction ))\n",
    "print('Confusion Matrix \\n', confusion_matrix(y_test, y_prediction))\n",
    "print('Execution Time:  \\n', time.time() - start_time, \" seconds\")"
   ]
  },
  {
   "cell_type": "code",
   "execution_count": 65,
   "metadata": {},
   "outputs": [
    {
     "name": "stdout",
     "output_type": "stream",
     "text": [
      "Execution Time:  \n",
      " 2.447894334793091  seconds\n"
     ]
    }
   ],
   "source": [
    "# In a Decision Tree classifier, data is sent through binary nodes, contiously being split based upon certain features\n",
    "# until it reaches a leaf node, where a prediction is made.\n",
    "\n",
    "from sklearn.tree import DecisionTreeClassifier\n",
    "from sklearn import tree\n",
    "\n",
    "start_time = time.time()\n",
    "\n",
    "clf = tree.DecisionTreeClassifier()\n",
    "clf = clf.fit(x_train, y_train)\n",
    "print('Execution Time:  \\n', time.time() - start_time, \" seconds\")\n"
   ]
  },
  {
   "cell_type": "code",
   "execution_count": 66,
   "metadata": {},
   "outputs": [
    {
     "name": "stdout",
     "output_type": "stream",
     "text": [
      "Accuracy score:  0.9915281410851405\n",
      "              precision    recall  f1-score   support\n",
      "\n",
      "           0       0.98      0.99      0.99     10115\n",
      "           1       0.99      0.98      0.99      8046\n",
      "           2       1.00      1.00      1.00       305\n",
      "           3       1.00      1.00      1.00      3431\n",
      "           4       1.00      1.00      1.00     12291\n",
      "           5       1.00      1.00      1.00       513\n",
      "           6       0.97      0.98      0.98      5822\n",
      "           7       0.97      0.96      0.97      3972\n",
      "           8       1.00      1.00      1.00      7797\n",
      "           9       1.00      1.00      1.00      4056\n",
      "          10       1.00      1.00      1.00      1794\n",
      "          11       1.00      1.00      1.00      1113\n",
      "\n",
      "    accuracy                           0.99     59255\n",
      "   macro avg       0.99      0.99      0.99     59255\n",
      "weighted avg       0.99      0.99      0.99     59255\n",
      "\n"
     ]
    }
   ],
   "source": [
    "from sklearn.metrics import confusion_matrix, classification_report\n",
    "y_pred = clf.predict(x_test)\n",
    "\n",
    "decisionTree_score = accuracy_score(y_test, y_pred)\n",
    "print(\"Accuracy score: \", decisionTree_score)\n",
    "print(classification_report(y_test, y_pred))"
   ]
  },
  {
   "cell_type": "code",
   "execution_count": 67,
   "metadata": {},
   "outputs": [
    {
     "name": "stdout",
     "output_type": "stream",
     "text": [
      "0.9915281410851405\n"
     ]
    }
   ],
   "source": [
    "from sklearn.metrics import accuracy_score\n",
    "print(accuracy_score(y_test,y_pred))"
   ]
  },
  {
   "cell_type": "code",
   "execution_count": 68,
   "metadata": {},
   "outputs": [
    {
     "name": "stdout",
     "output_type": "stream",
     "text": [
      "Training score 99.68\n",
      "Testing score 99.15\n"
     ]
    }
   ],
   "source": [
    "decisionTree_training_score = round(clf.score(x_train, y_train) *100, 2 )\n",
    "decisionTree_testing_score = round(clf.score(x_test, y_test)*100, 2)\n",
    "print(\"Training score\", decisionTree_training_score)\n",
    "print(\"Testing score\", decisionTree_testing_score)"
   ]
  },
  {
   "cell_type": "code",
   "execution_count": 69,
   "metadata": {},
   "outputs": [
    {
     "data": {
      "text/html": [
       "<div>\n",
       "<style scoped>\n",
       "    .dataframe tbody tr th:only-of-type {\n",
       "        vertical-align: middle;\n",
       "    }\n",
       "\n",
       "    .dataframe tbody tr th {\n",
       "        vertical-align: top;\n",
       "    }\n",
       "\n",
       "    .dataframe thead th {\n",
       "        text-align: right;\n",
       "    }\n",
       "</style>\n",
       "<table border=\"1\" class=\"dataframe\">\n",
       "  <thead>\n",
       "    <tr style=\"text-align: right;\">\n",
       "      <th></th>\n",
       "      <th>Model</th>\n",
       "      <th>Training Score</th>\n",
       "      <th>Test Score</th>\n",
       "    </tr>\n",
       "  </thead>\n",
       "  <tbody>\n",
       "    <tr>\n",
       "      <th>1</th>\n",
       "      <td>KNN</td>\n",
       "      <td>91.56</td>\n",
       "      <td>85.80</td>\n",
       "    </tr>\n",
       "    <tr>\n",
       "      <th>0</th>\n",
       "      <td>Logistic Regression</td>\n",
       "      <td>96.50</td>\n",
       "      <td>96.27</td>\n",
       "    </tr>\n",
       "    <tr>\n",
       "      <th>2</th>\n",
       "      <td>Random Forest</td>\n",
       "      <td>99.68</td>\n",
       "      <td>99.13</td>\n",
       "    </tr>\n",
       "    <tr>\n",
       "      <th>3</th>\n",
       "      <td>Decision Tree(gini)</td>\n",
       "      <td>99.68</td>\n",
       "      <td>99.15</td>\n",
       "    </tr>\n",
       "  </tbody>\n",
       "</table>\n",
       "</div>"
      ],
      "text/plain": [
       "                 Model  Training Score  Test Score\n",
       "1                  KNN           91.56       85.80\n",
       "0  Logistic Regression           96.50       96.27\n",
       "2        Random Forest           99.68       99.13\n",
       "3  Decision Tree(gini)           99.68       99.15"
      ]
     },
     "execution_count": 69,
     "metadata": {},
     "output_type": "execute_result"
    }
   ],
   "source": [
    "model_evaluation = pd.DataFrame({\n",
    "    'Model': ['Logistic Regression','KNN','Random Forest', 'Decision Tree(gini)'],\n",
    "    'Training Score': [ log_training_score,knn_training_accuracy,random_forest_training_score, decisionTree_training_score],\n",
    "    'Test Score': [ log_testing_score, knn_testing_accuracy, random_forest_testing_score, decisionTree_testing_score],\n",
    "    })\n",
    "model_evaluation.sort_values(by='Test Score', ascending=True)"
   ]
  },
  {
   "cell_type": "code",
   "execution_count": null,
   "metadata": {},
   "outputs": [],
   "source": []
  }
 ],
 "metadata": {
  "kernelspec": {
   "display_name": "Python 3",
   "language": "python",
   "name": "python3"
  },
  "language_info": {
   "codemirror_mode": {
    "name": "ipython",
    "version": 3
   },
   "file_extension": ".py",
   "mimetype": "text/x-python",
   "name": "python",
   "nbconvert_exporter": "python",
   "pygments_lexer": "ipython3",
   "version": "3.8.5"
  }
 },
 "nbformat": 4,
 "nbformat_minor": 4
}
